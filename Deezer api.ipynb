{
 "cells": [
  {
   "cell_type": "code",
   "execution_count": 5,
   "metadata": {
    "collapsed": true
   },
   "outputs": [],
   "source": [
    "import requests"
   ]
  },
  {
   "cell_type": "code",
   "execution_count": 1,
   "metadata": {
    "collapsed": false
   },
   "outputs": [],
   "source": [
    "apiEndPoints = {\n",
    "    \"album\": r\"https://api.deezer.com/album/{0}\",\n",
    "    \"artist\": r\"https://api.deezer.com/artist/{0}\",\n",
    "    \"track\": r\"https://api.deezer.com/track/{0}\"    \n",
    "}"
   ]
  },
  {
   "cell_type": "code",
   "execution_count": 2,
   "metadata": {
    "collapsed": true
   },
   "outputs": [],
   "source": [
    "access_token = \"frBx6ZdRjE553f9dc2a3cc9P7JptufC553f9dc2a3d00hX24wk\""
   ]
  },
  {
   "cell_type": "code",
   "execution_count": 3,
   "metadata": {
    "collapsed": false
   },
   "outputs": [],
   "source": [
    "def get_item_from_api(itemType, itemId):\n",
    "    r = requests.get(url = apiEndPoints[itemType].format(itemId))\n",
    "    return r.json()"
   ]
  },
  {
   "cell_type": "code",
   "execution_count": 6,
   "metadata": {
    "collapsed": false
   },
   "outputs": [
    {
     "data": {
      "text/plain": [
       "{'id': 27,\n",
       " 'link': 'https://www.deezer.com/artist/27',\n",
       " 'name': 'Daft Punk',\n",
       " 'nb_album': 30,\n",
       " 'nb_fan': 3036491,\n",
       " 'picture': 'https://api.deezer.com/artist/27/image',\n",
       " 'picture_big': 'https://cdns-images.dzcdn.net/images/artist/f2bc007e9133c946ac3c3907ddc5d2ea/500x500-000000-80-0-0.jpg',\n",
       " 'picture_medium': 'https://cdns-images.dzcdn.net/images/artist/f2bc007e9133c946ac3c3907ddc5d2ea/250x250-000000-80-0-0.jpg',\n",
       " 'picture_small': 'https://cdns-images.dzcdn.net/images/artist/f2bc007e9133c946ac3c3907ddc5d2ea/56x56-000000-80-0-0.jpg',\n",
       " 'radio': True,\n",
       " 'share': 'http://www.deezer.com/artist/27?utm_source=deezer&utm_content=artist-27&utm_term=0_1455096115&utm_medium=web',\n",
       " 'tracklist': 'https://api.deezer.com/artist/27/top?limit=50',\n",
       " 'type': 'artist'}"
      ]
     },
     "execution_count": 6,
     "metadata": {},
     "output_type": "execute_result"
    }
   ],
   "source": [
    "get_item_from_api(\"artist\", 27)"
   ]
  },
  {
   "cell_type": "code",
   "execution_count": 9,
   "metadata": {
    "collapsed": false
   },
   "outputs": [],
   "source": [
    "def get_history(processingFunction = process_history, length = 50):\n",
    "    output = []\n",
    "    increment = 50\n",
    "    numberOfSteps = length // increment\n",
    "    for step in range(numberOfSteps):\n",
    "        url = r\"http://api.deezer.com/user/me/history?access_token={0}&index={1}&limit={2}\".format(access_token,step*increment, increment)\n",
    "        raw = requests.get(url = url).json()\n",
    "        output.extend(processingFunction(raw))\n",
    "    return output"
   ]
  },
  {
   "cell_type": "code",
   "execution_count": null,
   "metadata": {
    "collapsed": false
   },
   "outputs": [],
   "source": [
    "get_history()"
   ]
  },
  {
   "cell_type": "code",
   "execution_count": 12,
   "metadata": {
    "collapsed": true
   },
   "outputs": [],
   "source": [
    "from collections import namedtuple"
   ]
  },
  {
   "cell_type": "code",
   "execution_count": 13,
   "metadata": {
    "collapsed": false
   },
   "outputs": [
    {
     "name": "stdout",
     "output_type": "stream",
     "text": [
      "from builtins import property as _property, tuple as _tuple\n",
      "from operator import itemgetter as _itemgetter\n",
      "from collections import OrderedDict\n",
      "\n",
      "class Listen(tuple):\n",
      "    'Listen(song_name, song_id, album_id, artist_id, timestamp)'\n",
      "\n",
      "    __slots__ = ()\n",
      "\n",
      "    _fields = ('song_name', 'song_id', 'album_id', 'artist_id', 'timestamp')\n",
      "\n",
      "    def __new__(_cls, song_name, song_id, album_id, artist_id, timestamp):\n",
      "        'Create new instance of Listen(song_name, song_id, album_id, artist_id, timestamp)'\n",
      "        return _tuple.__new__(_cls, (song_name, song_id, album_id, artist_id, timestamp))\n",
      "\n",
      "    @classmethod\n",
      "    def _make(cls, iterable, new=tuple.__new__, len=len):\n",
      "        'Make a new Listen object from a sequence or iterable'\n",
      "        result = new(cls, iterable)\n",
      "        if len(result) != 5:\n",
      "            raise TypeError('Expected 5 arguments, got %d' % len(result))\n",
      "        return result\n",
      "\n",
      "    def _replace(_self, **kwds):\n",
      "        'Return a new Listen object replacing specified fields with new values'\n",
      "        result = _self._make(map(kwds.pop, ('song_name', 'song_id', 'album_id', 'artist_id', 'timestamp'), _self))\n",
      "        if kwds:\n",
      "            raise ValueError('Got unexpected field names: %r' % list(kwds))\n",
      "        return result\n",
      "\n",
      "    def __repr__(self):\n",
      "        'Return a nicely formatted representation string'\n",
      "        return self.__class__.__name__ + '(song_name=%r, song_id=%r, album_id=%r, artist_id=%r, timestamp=%r)' % self\n",
      "\n",
      "    def _asdict(self):\n",
      "        'Return a new OrderedDict which maps field names to their values.'\n",
      "        return OrderedDict(zip(self._fields, self))\n",
      "\n",
      "    def __getnewargs__(self):\n",
      "        'Return self as a plain tuple.  Used by copy and pickle.'\n",
      "        return tuple(self)\n",
      "\n",
      "    song_name = _property(_itemgetter(0), doc='Alias for field number 0')\n",
      "\n",
      "    song_id = _property(_itemgetter(1), doc='Alias for field number 1')\n",
      "\n",
      "    album_id = _property(_itemgetter(2), doc='Alias for field number 2')\n",
      "\n",
      "    artist_id = _property(_itemgetter(3), doc='Alias for field number 3')\n",
      "\n",
      "    timestamp = _property(_itemgetter(4), doc='Alias for field number 4')\n",
      "\n",
      "\n"
     ]
    }
   ],
   "source": [
    "Listen = namedtuple('Listen', ['song_name', 'song_id', 'album_id', 'artist_id', \"timestamp\"], verbose=True)"
   ]
  },
  {
   "cell_type": "code",
   "execution_count": null,
   "metadata": {
    "collapsed": true
   },
   "outputs": [],
   "source": [
    "example = Listen(\"Defector\", \"Drones\", \"Muse\", 1)"
   ]
  },
  {
   "cell_type": "code",
   "execution_count": null,
   "metadata": {
    "collapsed": false
   },
   "outputs": [],
   "source": [
    "raw = get_history()"
   ]
  },
  {
   "cell_type": "code",
   "execution_count": 8,
   "metadata": {
    "collapsed": false
   },
   "outputs": [],
   "source": [
    "def process_history(data):\n",
    "    return [Listen(item[\"title\"], item[\"id\"], item[\"album\"][\"id\"], item[\"artist\"][\"id\"], item[\"timestamp\"]) for item in data[\"data\"]]"
   ]
  },
  {
   "cell_type": "code",
   "execution_count": 14,
   "metadata": {
    "collapsed": false
   },
   "outputs": [],
   "source": [
    "longHistory = get_history(length = 1000)"
   ]
  },
  {
   "cell_type": "code",
   "execution_count": null,
   "metadata": {
    "collapsed": false
   },
   "outputs": [],
   "source": [
    "listenHistory = process_history(historyExample)"
   ]
  },
  {
   "cell_type": "code",
   "execution_count": 21,
   "metadata": {
    "collapsed": true
   },
   "outputs": [],
   "source": [
    "import numpy as np\n",
    "%matplotlib inline\n",
    "from IPython.core.pylabtools import figsize\n",
    "from matplotlib import pyplot as plt\n",
    "from collections import Counter"
   ]
  },
  {
   "cell_type": "code",
   "execution_count": null,
   "metadata": {
    "collapsed": false
   },
   "outputs": [],
   "source": [
    "timestamps = [x.timestamp for x in longHistory]\n",
    "artists = [x.artist_name for x in longHistory]"
   ]
  },
  {
   "cell_type": "code",
   "execution_count": null,
   "metadata": {
    "collapsed": false
   },
   "outputs": [],
   "source": [
    "def display_pie_chart(listenHistory, number_items = 10):\n",
    "    artists = [x.artist_name for x in listenHistory]\n",
    "    counter = Counter(artists)\n",
    "    \n",
    "    artists, count = [x[0] for x in counter.most_common(number_items)], [x[1] for x in counter.most_common(number_items)]\n",
    "    plt.pie(count, labels = artists)"
   ]
  },
  {
   "cell_type": "code",
   "execution_count": null,
   "metadata": {
    "collapsed": false
   },
   "outputs": [],
   "source": [
    "display_pie_chart(longHistory, number_items = 20 )"
   ]
  },
  {
   "cell_type": "code",
   "execution_count": 15,
   "metadata": {
    "collapsed": false
   },
   "outputs": [],
   "source": [
    "def most_listened_to_songs(listenHistory, number_items = 40):\n",
    "    titles = [x.song_id for x in listenHistory]\n",
    "    counter = Counter(titles)\n",
    "    return [x[0] for x in counter.most_common(number_items)]"
   ]
  },
  {
   "cell_type": "code",
   "execution_count": null,
   "metadata": {
    "collapsed": false
   },
   "outputs": [],
   "source": [
    "most_listened_to_songs(longHistory)"
   ]
  },
  {
   "cell_type": "code",
   "execution_count": 16,
   "metadata": {
    "collapsed": true
   },
   "outputs": [],
   "source": [
    "class Playlist:\n",
    "    \n",
    "    def __init__(self, p_id = 1609467705,name = \"JakesSuperAmazingFlow\"):\n",
    "        self.name = name\n",
    "        self.url = r\"http://api.deezer.com/playlist/{0}/tracks?access_token={1}\".format(p_id,access_token)\n",
    "        self.p_id = p_id\n",
    "\n",
    "    def create(self):\n",
    "        return False\n",
    "        \n",
    "    def add_tracks(self, ids):\n",
    "        url = self.url + \"&songs=\" + self._parse_track_input(ids)\n",
    "        return requests.post(url).json()\n",
    "    \n",
    "    def get_tracks(self):\n",
    "        return requests.get(self.url).json()\n",
    "    \n",
    "    def remove_tracks(self, ids):\n",
    "        url = self.url + \"&songs=\" + self._parse_track_input(ids)\n",
    "        requests.delete(url)\n",
    "        \n",
    "    def clear_tracks(self):\n",
    "        tracks = [x[\"id\"] for x in playlist.get_tracks()[\"data\"]]\n",
    "        while tracks != []:\n",
    "            self.remove_tracks(tracks)\n",
    "            tracks = [x[\"id\"] for x in playlist.get_tracks()[\"data\"]]\n",
    "    \n",
    "    \n",
    "    def _parse_track_input(self, ids):\n",
    "        return \"%2C\".join([str(id) for id in ids])\n",
    "    "
   ]
  },
  {
   "cell_type": "code",
   "execution_count": 22,
   "metadata": {
    "collapsed": true
   },
   "outputs": [],
   "source": [
    "import random"
   ]
  },
  {
   "cell_type": "code",
   "execution_count": 17,
   "metadata": {
    "collapsed": false
   },
   "outputs": [],
   "source": [
    "def select_from_generator(songList, amount):\n",
    "    if len(songList) < amount: return songList\n",
    "    random.shuffle(songList)\n",
    "    return songList[:amount - 1]\n",
    "\n",
    "def generate_flow(generators, history = longHistory, weights = None):\n",
    "    \n",
    "    flow_length = 50\n",
    "    \n",
    "    if weights == None: weights = [1] * len(generators)\n",
    "        \n",
    "    totalWeight = sum(weights)\n",
    "        \n",
    "    selectPerGenerator = [int(flow_length * (weight / totalWeight)) for weight in weights ] \n",
    "    \n",
    "    print(selectPerGenerator)\n",
    "    \n",
    "    output = []\n",
    "    \n",
    "    for i in range(len(generators)):\n",
    "        output.extend(select_from_generator(generators[i](history), selectPerGenerator[i]))\n",
    "        \n",
    "    \n",
    "    return output"
   ]
  },
  {
   "cell_type": "code",
   "execution_count": 23,
   "metadata": {
    "collapsed": false
   },
   "outputs": [
    {
     "name": "stdout",
     "output_type": "stream",
     "text": [
      "[16, 16, 16]\n"
     ]
    },
    {
     "data": {
      "text/plain": [
       "True"
      ]
     },
     "execution_count": 23,
     "metadata": {},
     "output_type": "execute_result"
    }
   ],
   "source": [
    "playlist = Playlist()\n",
    "playlist.clear_tracks()\n",
    "playlist.add_tracks(generate_flow([most_listened_to_songs, random_song_from_top_n_artists, deezer_flow]))"
   ]
  },
  {
   "cell_type": "code",
   "execution_count": 20,
   "metadata": {
    "collapsed": false
   },
   "outputs": [
    {
     "name": "stdout",
     "output_type": "stream",
     "text": [
      "[16, 16, 16]\n"
     ]
    },
    {
     "ename": "NameError",
     "evalue": "name 'Counter' is not defined",
     "output_type": "error",
     "traceback": [
      "\u001b[1;31m---------------------------------------------------------------------------\u001b[0m",
      "\u001b[1;31mNameError\u001b[0m                                 Traceback (most recent call last)",
      "\u001b[1;32m<ipython-input-20-835711c973d7>\u001b[0m in \u001b[0;36m<module>\u001b[1;34m()\u001b[0m\n\u001b[1;32m----> 1\u001b[1;33m \u001b[0mgenerate_flow\u001b[0m\u001b[1;33m(\u001b[0m\u001b[1;33m[\u001b[0m\u001b[0mmost_listened_to_songs\u001b[0m\u001b[1;33m,\u001b[0m \u001b[0mrandom_song_from_top_n_artists\u001b[0m\u001b[1;33m,\u001b[0m \u001b[0mdeezer_flow\u001b[0m\u001b[1;33m]\u001b[0m\u001b[1;33m)\u001b[0m\u001b[1;33m\u001b[0m\u001b[0m\n\u001b[0m",
      "\u001b[1;32m<ipython-input-17-82295466bb04>\u001b[0m in \u001b[0;36mgenerate_flow\u001b[1;34m(generators, history, weights)\u001b[0m\n\u001b[0;32m     19\u001b[0m \u001b[1;33m\u001b[0m\u001b[0m\n\u001b[0;32m     20\u001b[0m     \u001b[1;32mfor\u001b[0m \u001b[0mi\u001b[0m \u001b[1;32min\u001b[0m \u001b[0mrange\u001b[0m\u001b[1;33m(\u001b[0m\u001b[0mlen\u001b[0m\u001b[1;33m(\u001b[0m\u001b[0mgenerators\u001b[0m\u001b[1;33m)\u001b[0m\u001b[1;33m)\u001b[0m\u001b[1;33m:\u001b[0m\u001b[1;33m\u001b[0m\u001b[0m\n\u001b[1;32m---> 21\u001b[1;33m         \u001b[0moutput\u001b[0m\u001b[1;33m.\u001b[0m\u001b[0mextend\u001b[0m\u001b[1;33m(\u001b[0m\u001b[0mselect_from_generator\u001b[0m\u001b[1;33m(\u001b[0m\u001b[0mgenerators\u001b[0m\u001b[1;33m[\u001b[0m\u001b[0mi\u001b[0m\u001b[1;33m]\u001b[0m\u001b[1;33m(\u001b[0m\u001b[0mhistory\u001b[0m\u001b[1;33m)\u001b[0m\u001b[1;33m,\u001b[0m \u001b[0mselectPerGenerator\u001b[0m\u001b[1;33m[\u001b[0m\u001b[0mi\u001b[0m\u001b[1;33m]\u001b[0m\u001b[1;33m)\u001b[0m\u001b[1;33m)\u001b[0m\u001b[1;33m\u001b[0m\u001b[0m\n\u001b[0m\u001b[0;32m     22\u001b[0m \u001b[1;33m\u001b[0m\u001b[0m\n\u001b[0;32m     23\u001b[0m \u001b[1;33m\u001b[0m\u001b[0m\n",
      "\u001b[1;32m<ipython-input-15-ad2e3b47d610>\u001b[0m in \u001b[0;36mmost_listened_to_songs\u001b[1;34m(listenHistory, number_items)\u001b[0m\n\u001b[0;32m      1\u001b[0m \u001b[1;32mdef\u001b[0m \u001b[0mmost_listened_to_songs\u001b[0m\u001b[1;33m(\u001b[0m\u001b[0mlistenHistory\u001b[0m\u001b[1;33m,\u001b[0m \u001b[0mnumber_items\u001b[0m \u001b[1;33m=\u001b[0m \u001b[1;36m40\u001b[0m\u001b[1;33m)\u001b[0m\u001b[1;33m:\u001b[0m\u001b[1;33m\u001b[0m\u001b[0m\n\u001b[0;32m      2\u001b[0m     \u001b[0mtitles\u001b[0m \u001b[1;33m=\u001b[0m \u001b[1;33m[\u001b[0m\u001b[0mx\u001b[0m\u001b[1;33m.\u001b[0m\u001b[0msong_id\u001b[0m \u001b[1;32mfor\u001b[0m \u001b[0mx\u001b[0m \u001b[1;32min\u001b[0m \u001b[0mlistenHistory\u001b[0m\u001b[1;33m]\u001b[0m\u001b[1;33m\u001b[0m\u001b[0m\n\u001b[1;32m----> 3\u001b[1;33m     \u001b[0mcounter\u001b[0m \u001b[1;33m=\u001b[0m \u001b[0mCounter\u001b[0m\u001b[1;33m(\u001b[0m\u001b[0mtitles\u001b[0m\u001b[1;33m)\u001b[0m\u001b[1;33m\u001b[0m\u001b[0m\n\u001b[0m\u001b[0;32m      4\u001b[0m     \u001b[1;32mreturn\u001b[0m \u001b[1;33m[\u001b[0m\u001b[0mx\u001b[0m\u001b[1;33m[\u001b[0m\u001b[1;36m0\u001b[0m\u001b[1;33m]\u001b[0m \u001b[1;32mfor\u001b[0m \u001b[0mx\u001b[0m \u001b[1;32min\u001b[0m \u001b[0mcounter\u001b[0m\u001b[1;33m.\u001b[0m\u001b[0mmost_common\u001b[0m\u001b[1;33m(\u001b[0m\u001b[0mnumber_items\u001b[0m\u001b[1;33m)\u001b[0m\u001b[1;33m]\u001b[0m\u001b[1;33m\u001b[0m\u001b[0m\n",
      "\u001b[1;31mNameError\u001b[0m: name 'Counter' is not defined"
     ]
    }
   ],
   "source": [
    "generate_flow([most_listened_to_songs, random_song_from_top_n_artists, deezer_flow])"
   ]
  },
  {
   "cell_type": "code",
   "execution_count": 18,
   "metadata": {
    "collapsed": false
   },
   "outputs": [],
   "source": [
    "def random_song_from_top_n_artists(history, number_of_artists = 5):\n",
    "    artists = [x.artist_id for x in history]\n",
    "    counter = Counter(artists)\n",
    "    artist_ids = [x[0] for x in counter.most_common(5)]\n",
    "    songs = []\n",
    "    for artist_id in artist_ids:\n",
    "        raw = requests.get(r\"https://api.deezer.com/artist/{0}/top?limit=20\".format(artist_id)).json()\n",
    "        songs.extend([x[\"id\"] for x in raw[\"data\"]])\n",
    "    return songs"
   ]
  },
  {
   "cell_type": "code",
   "execution_count": 19,
   "metadata": {
    "collapsed": false
   },
   "outputs": [],
   "source": [
    "def deezer_flow(history):\n",
    "    url = r\"http://api.deezer.com/user/me/flow?access_token={0}\".format(access_token)\n",
    "    return [x[\"id\"] for x in requests.get(url).json()[\"data\"]]"
   ]
  },
  {
   "cell_type": "code",
   "execution_count": 225,
   "metadata": {
    "collapsed": false
   },
   "outputs": [
    {
     "data": {
      "text/plain": [
       "[15908435,\n",
       " 2420458,\n",
       " 95956384,\n",
       " 13139232,\n",
       " 910079,\n",
       " 74683990,\n",
       " 1178034,\n",
       " 3129407,\n",
       " 4622567,\n",
       " 3157501,\n",
       " 3590194,\n",
       " 13547128,\n",
       " 6685848,\n",
       " 2924841,\n",
       " 4624027,\n",
       " 946317,\n",
       " 3130433,\n",
       " 2754843,\n",
       " 102292706,\n",
       " 44230981,\n",
       " 1178161,\n",
       " 67238732,\n",
       " 39376531,\n",
       " 2936707,\n",
       " 7179758]"
      ]
     },
     "execution_count": 225,
     "metadata": {},
     "output_type": "execute_result"
    }
   ],
   "source": [
    "deezer_flow(\"Jake\")"
   ]
  },
  {
   "cell_type": "code",
   "execution_count": 1,
   "metadata": {
    "collapsed": false
   },
   "outputs": [],
   "source": [
    "import theano"
   ]
  },
  {
   "cell_type": "code",
   "execution_count": null,
   "metadata": {
    "collapsed": true
   },
   "outputs": [],
   "source": []
  }
 ],
 "metadata": {
  "kernelspec": {
   "display_name": "Python 3",
   "language": "python",
   "name": "python3"
  },
  "language_info": {
   "codemirror_mode": {
    "name": "ipython",
    "version": 3
   },
   "file_extension": ".py",
   "mimetype": "text/x-python",
   "name": "python",
   "nbconvert_exporter": "python",
   "pygments_lexer": "ipython3",
   "version": "3.5.1"
  }
 },
 "nbformat": 4,
 "nbformat_minor": 0
}
