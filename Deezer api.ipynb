{
 "cells": [
  {
   "cell_type": "code",
   "execution_count": 230,
   "metadata": {
    "collapsed": true
   },
   "outputs": [],
   "source": [
    "import requests"
   ]
  },
  {
   "cell_type": "code",
   "execution_count": 231,
   "metadata": {
    "collapsed": false
   },
   "outputs": [],
   "source": [
    "apiEndPoints = {\n",
    "    \"album\": r\"https://api.deezer.com/album/{0}\",\n",
    "    \"artist\": r\"https://api.deezer.com/artist/{0}\",\n",
    "    \"track\": r\"https://api.deezer.com/track/{0}\"    \n",
    "}"
   ]
  },
  {
   "cell_type": "code",
   "execution_count": 232,
   "metadata": {
    "collapsed": true
   },
   "outputs": [],
   "source": [
    "access_token = \"TOKEN\""
   ]
  },
  {
   "cell_type": "code",
   "execution_count": 233,
   "metadata": {
    "collapsed": false
   },
   "outputs": [],
   "source": [
    "def get_item_from_api(itemType, itemId):\n",
    "    r = requests.get(url = apiEndPoints[itemType].format(itemId))\n",
    "    return r.json()"
   ]
  },
  {
   "cell_type": "code",
   "execution_count": 234,
   "metadata": {
    "collapsed": false
   },
   "outputs": [
    {
     "data": {
      "text/plain": [
       "{'id': 27,\n",
       " 'link': 'https://www.deezer.com/artist/27',\n",
       " 'name': 'Daft Punk',\n",
       " 'nb_album': 30,\n",
       " 'nb_fan': 3029189,\n",
       " 'picture': 'https://api.deezer.com/artist/27/image',\n",
       " 'picture_big': 'https://cdns-images.dzcdn.net/images/artist/f2bc007e9133c946ac3c3907ddc5d2ea/500x500-000000-80-0-0.jpg',\n",
       " 'picture_medium': 'https://cdns-images.dzcdn.net/images/artist/f2bc007e9133c946ac3c3907ddc5d2ea/250x250-000000-80-0-0.jpg',\n",
       " 'picture_small': 'https://cdns-images.dzcdn.net/images/artist/f2bc007e9133c946ac3c3907ddc5d2ea/56x56-000000-80-0-0.jpg',\n",
       " 'radio': True,\n",
       " 'share': 'http://www.deezer.com/artist/27?utm_source=deezer&utm_content=artist-27&utm_term=0_1454845793&utm_medium=web',\n",
       " 'tracklist': 'https://api.deezer.com/artist/27/top?limit=50',\n",
       " 'type': 'artist'}"
      ]
     },
     "execution_count": 234,
     "metadata": {},
     "output_type": "execute_result"
    }
   ],
   "source": [
    "get_item_from_api(\"artist\", 27)"
   ]
  },
  {
   "cell_type": "code",
   "execution_count": 235,
   "metadata": {
    "collapsed": false
   },
   "outputs": [],
   "source": [
    "def get_history(processingFunction = process_history, length = 50):\n",
    "    output = []\n",
    "    increment = 50\n",
    "    numberOfSteps = length // increment\n",
    "    for step in range(numberOfSteps):\n",
    "        url = r\"http://api.deezer.com/user/me/history?access_token={0}&index={1}&limit={2}\".format(access_token,step*increment, increment)\n",
    "        raw = requests.get(url = url).json()\n",
    "        output.extend(processingFunction(raw))\n",
    "    return output"
   ]
  },
  {
   "cell_type": "code",
   "execution_count": null,
   "metadata": {
    "collapsed": false
   },
   "outputs": [],
   "source": [
    "get_history()"
   ]
  },
  {
   "cell_type": "code",
   "execution_count": null,
   "metadata": {
    "collapsed": true
   },
   "outputs": [],
   "source": [
    "from collections import namedtuple"
   ]
  },
  {
   "cell_type": "code",
   "execution_count": null,
   "metadata": {
    "collapsed": false
   },
   "outputs": [],
   "source": [
    "Listen = namedtuple('Listen', ['song_name', 'song_id', 'album_id', 'artist_id', \"timestamp\"], verbose=True)"
   ]
  },
  {
   "cell_type": "code",
   "execution_count": null,
   "metadata": {
    "collapsed": true
   },
   "outputs": [],
   "source": [
    "example = Listen(\"Defector\", \"Drones\", \"Muse\", 1)"
   ]
  },
  {
   "cell_type": "code",
   "execution_count": null,
   "metadata": {
    "collapsed": false
   },
   "outputs": [],
   "source": [
    "raw = get_history()"
   ]
  },
  {
   "cell_type": "code",
   "execution_count": null,
   "metadata": {
    "collapsed": false
   },
   "outputs": [],
   "source": [
    "def process_history(data):\n",
    "    return [Listen(item[\"title\"], item[\"id\"], item[\"album\"][\"id\"], item[\"artist\"][\"id\"], item[\"timestamp\"]) for item in data[\"data\"]]"
   ]
  },
  {
   "cell_type": "code",
   "execution_count": null,
   "metadata": {
    "collapsed": false
   },
   "outputs": [],
   "source": [
    "longHistory = get_history(length = 1000)"
   ]
  },
  {
   "cell_type": "code",
   "execution_count": null,
   "metadata": {
    "collapsed": false
   },
   "outputs": [],
   "source": [
    "listenHistory = process_history(historyExample)"
   ]
  },
  {
   "cell_type": "code",
   "execution_count": null,
   "metadata": {
    "collapsed": true
   },
   "outputs": [],
   "source": [
    "import numpy as np\n",
    "%matplotlib inline\n",
    "from IPython.core.pylabtools import figsize\n",
    "from matplotlib import pyplot as plt\n",
    "from collections import Counter"
   ]
  },
  {
   "cell_type": "code",
   "execution_count": null,
   "metadata": {
    "collapsed": false
   },
   "outputs": [],
   "source": [
    "timestamps = [x.timestamp for x in longHistory]\n",
    "artists = [x.artist_name for x in longHistory]"
   ]
  },
  {
   "cell_type": "code",
   "execution_count": null,
   "metadata": {
    "collapsed": false
   },
   "outputs": [],
   "source": [
    "def display_pie_chart(listenHistory, number_items = 10):\n",
    "    artists = [x.artist_name for x in listenHistory]\n",
    "    counter = Counter(artists)\n",
    "    \n",
    "    artists, count = [x[0] for x in counter.most_common(number_items)], [x[1] for x in counter.most_common(number_items)]\n",
    "    plt.pie(count, labels = artists)"
   ]
  },
  {
   "cell_type": "code",
   "execution_count": null,
   "metadata": {
    "collapsed": false
   },
   "outputs": [],
   "source": [
    "display_pie_chart(longHistory, number_items = 20 )"
   ]
  },
  {
   "cell_type": "code",
   "execution_count": null,
   "metadata": {
    "collapsed": false
   },
   "outputs": [],
   "source": [
    "def most_listened_to_songs(listenHistory, number_items = 40):\n",
    "    titles = [x.song_id for x in listenHistory]\n",
    "    counter = Counter(titles)\n",
    "    return [x[0] for x in counter.most_common(number_items)]"
   ]
  },
  {
   "cell_type": "code",
   "execution_count": null,
   "metadata": {
    "collapsed": false
   },
   "outputs": [],
   "source": [
    "most_listened_to_songs(longHistory)"
   ]
  },
  {
   "cell_type": "code",
   "execution_count": null,
   "metadata": {
    "collapsed": true
   },
   "outputs": [],
   "source": [
    "class Playlist:\n",
    "    \n",
    "    def __init__(self, p_id = 1609467705,name = \"JakesSuperAmazingFlow\"):\n",
    "        self.name = name\n",
    "        self.url = r\"http://api.deezer.com/playlist/{0}/tracks?access_token={1}\".format(p_id,access_token)\n",
    "        self.p_id = p_id\n",
    "\n",
    "    def create(self):\n",
    "        return False\n",
    "        \n",
    "    def add_tracks(self, ids):\n",
    "        url = self.url + \"&songs=\" + self._parse_track_input(ids)\n",
    "        return requests.post(url).json()\n",
    "    \n",
    "    def get_tracks(self):\n",
    "        return requests.get(self.url).json()\n",
    "    \n",
    "    def remove_tracks(self, ids):\n",
    "        url = self.url + \"&songs=\" + self._parse_track_input(ids)\n",
    "        requests.delete(url)\n",
    "        \n",
    "    def clear_tracks(self):\n",
    "        tracks = [x[\"id\"] for x in playlist.get_tracks()[\"data\"]]\n",
    "        while tracks != []:\n",
    "            self.remove_tracks(tracks)\n",
    "            tracks = [x[\"id\"] for x in playlist.get_tracks()[\"data\"]]\n",
    "    \n",
    "    \n",
    "    def _parse_track_input(self, ids):\n",
    "        return \"%2C\".join([str(id) for id in ids])\n",
    "    "
   ]
  },
  {
   "cell_type": "code",
   "execution_count": null,
   "metadata": {
    "collapsed": true
   },
   "outputs": [],
   "source": [
    "import random"
   ]
  },
  {
   "cell_type": "code",
   "execution_count": 228,
   "metadata": {
    "collapsed": false
   },
   "outputs": [],
   "source": [
    "def select_from_generator(songList, amount):\n",
    "    if len(songList) < amount: return songList\n",
    "    random.shuffle(songList)\n",
    "    return songList[:amount - 1]\n",
    "\n",
    "def generate_flow(generators, history = longHistory, weights = None):\n",
    "    \n",
    "    flow_length = 50\n",
    "    \n",
    "    if weights == None: weights = [1] * len(generators)\n",
    "        \n",
    "    totalWeight = sum(weights)\n",
    "        \n",
    "    selectPerGenerator = [int(flow_length * (weight / totalWeight)) for weight in weights ] \n",
    "    \n",
    "    print(selectPerGenerator)\n",
    "    \n",
    "    output = []\n",
    "    \n",
    "    for i in range(len(generators)):\n",
    "        output.extend(select_from_generator(generators[i](history), selectPerGenerator[i]))\n",
    "        \n",
    "    \n",
    "    return output"
   ]
  },
  {
   "cell_type": "code",
   "execution_count": 238,
   "metadata": {
    "collapsed": false
   },
   "outputs": [
    {
     "name": "stdout",
     "output_type": "stream",
     "text": [
      "[16, 16, 16]\n",
      "Counter({'Go Your Own Way (2004 Remastered Edition)': 21, 'We Are the People': 20, 'Girl From Mars': 16, 'Dreams (Remastered)': 14, 'Clarity (Radio Edit Version)': 14, 'Everywhere': 13, 'The Chain (Remastered)': 13, 'Mercy': 11, 'Second Hand News (2004 Remastered Edition)': 11, 'Little Lies': 11, 'Dead Inside': 11, 'Never Going Back Again (2004 Remastered Edition)': 10, 'Reapers': 9, 'Psycho': 9, 'Somebody Told Me': 9, 'Dreams (2004 Remastered Edition)': 9, 'Some Might Say': 9, 'Aftermath': 8, 'Young Folks': 8, 'Teardrop': 8, \"Don't Stop (2004 Remastered Edition)\": 8, 'Tokyo (Vampires & Wolves)': 7, 'Defector': 7, '[JFK]': 7, 'The Handler': 7, 'Songbird': 6, 'Best Day Of My Life': 6, 'Sonnet': 6, 'In The Heat Of The Moment': 6, 'Are You Gonna Be My Girl': 6, 'How You Remind Me': 6, 'The Chain (2004 Remastered Edition)': 6, 'Revolt': 6, 'Princess of China': 6, 'Doom And Gloom': 6, 'Kids': 6, 'Golden Skans': 6, 'Just': 6, \"I Don't Want To Know (2004 Remastered Edition)\": 5, 'French Navy': 5, 'Little Shocks': 5, 'There She Goes': 5, 'Shut Up and Dance': 5, 'The Globalist': 5, 'Songbird (2004 Remastered Edition)': 5, 'Do I Wanna Know?': 4, 'Another Sunny Day': 4, \"Don't Look Back In Anger\": 4, 'Starlight': 4, 'Madness': 4, 'Knights Of Cydonia': 4, 'An End Has A Start': 4, 'Supermassive Black Hole': 4, 'You Make Loving Fun (2004 Remastered Edition)': 4, 'Supersonic': 4, 'Shakermaker': 4, 'Explorers': 4, \"Love's Not A Competition (But I'm Winning)\": 4, 'Listen To Your Head': 4, 'Never Going Back Again (Remastered)': 4, \"Don't Stop (Remastered)\": 4, 'Songbird (Remastered)': 4, 'Wonderwall': 4, 'No One Knows': 4, 'We Were Children': 4, 'Going Underground': 4, 'Everything Is Average Nowadays': 3, 'Losing My Religion': 3, 'Hands Open': 3, 'I Always Knew': 3, 'On Top Of The World': 3, 'Who The Fuck Are Arctic Monkeys?': 3, 'Good Days Bad Days': 3, 'Drones': 3, 'Snap Out Of It': 3, 'Kinda Girl You Are': 3, 'All Around The World': 3, 'Somewhere Only We Know': 3, 'Karma Police': 3, 'Mad Sounds': 3, 'Underdog': 3, 'Animals': 3, 'Supremacy': 3, 'Dakota (Decade In The Sun Version)': 3, 'Cigarettes & Alcohol': 3, 'Live Forever': 3, 'Follow Me': 3, 'Amsterdam': 3, \"Why'd You Only Call Me When You're High?\": 3, 'Bad Day': 3, 'Knee Socks': 3, 'My Type': 3, 'Stand By Me': 3, 'Second Hand News (Remastered)': 3, 'Oh Daddy (2004 Remastered Edition)': 3, 'Walk Away': 3, 'Showbiz': 3, \"Ever Fallen in Love (With Someone You Shouldn't've?) (1996 Remastered Version)\": 3, 'Falling Awake': 3, 'I Want It All': 3, 'Drops of Jupiter': 3, 'Oh My God': 3, 'Fireside': 3, 'One For The Road': 3, 'Feeling Good': 3, 'Skyrim Theme': 3, 'Club Foot': 3, 'Arabella': 3, 'Bleeding Out': 3, 'Ruby': 3, 'The Hindu Times': 3, 'Stop Crying Your Heart Out': 3, 'Everyday I Love You Less And Less': 3, 'Survival': 3, 'Mean': 3, 'Plug In Baby': 3, 'Alright': 3, 'The Angry Mob': 3, 'Teenage Icon': 3, 'No. 1 Party Anthem': 3, 'Heroes (1999 Remastered Version)': 2, 'One More Night': 2, 'Born This Way': 2, 'Gold Dust Woman (2004 Remastered Edition)': 2, 'Hoodoo': 2, 'Outsiders': 2, 'Speak Now': 2, 'You Can Have It All': 2, 'Half The World Away': 2, 'Every Teardrop Is a Waterfall': 2, 'Maybe in the Dark': 2, 'Nothing Left To Say / Rocks (Medley)': 2, 'Anyone Can Play Guitar': 2, 'Evil And A Heathen': 2, 'Over My Head (Cable Car)': 2, 'Always': 2, 'I Predict A Riot': 2, 'How to Save a Life': 2, 'You Found Me': 2, 'I Wanna Be Yours': 2, 'Bigmouth Strikes Again (2011 Remastered Version)': 2, 'Instant Crush': 2, 'Look After You': 2, 'Grace': 2, 'I Found Out': 2, 'Blue Jeans': 2, 'The Fear': 2, 'I Wish I Was A Girl': 2, 'Never Say Never': 2, 'Fillip': 2, 'Use Somebody': 2, 'City Of Delusion': 2, 'On The Run': 2, 'Call Me Maybe': 2, 'Man On Mars': 2, 'Brain Cells': 2, 'Wide Awake': 2, 'Panic Station': 2, 'You Miss The Point Completely I Get The Point Exactly': 2, 'This Boy': 2, 'Sunburn': 2, 'Round And Round': 2, 'Do You Want To': 2, 'Take a Bow': 2, 'Glorious': 2, 'Ulysses': 2, 'How Soon Is Now?': 2, 'Unintended': 2, 'The Fallen': 2, 'Smile': 2, 'This Modern Love': 2, 'Muscle Museum': 2, 'So This Is Great Britain?': 2, 'Cave': 2, 'Pumped up Kicks': 2, 'Falling Down': 2, 'Map Of The Problematique': 2, 'Mountain Sound': 2, 'Hear Me': 2, 'Every Night': 2, 'Modern Way': 2, 'Roll With It (Remastered)': 2, 'You Make Loving Fun (Remastered)': 2, 'This Charming Man': 2, 'Promises': 2, 'Half The World Away (Remastered)': 2, 'Cool James': 2, 'Leave This Island': 2, 'Champagne Supernova': 2, 'Closing Time': 2, 'Lord Don’t Slow Me Down': 2, 'Never Miss A Beat': 2, 'The Masterplan': 1, 'You Talk': 1, 'Yellow Light': 1, 'A Sky Full of Stars': 1, 'Monday Morning (Live)': 1, 'Wild Is The Wind (1999 Remastered Version)': 1, 'Blue On Blue': 1, 'Money (2011 Remastered Version)': 1, 'Misery Company': 1, 'I Miss You': 1, 'Prelude': 1, 'Paradise': 1, 'Californication': 1, 'Charlie Brown': 1, 'Her Name Was Audre': 1, 'Parisian Skies': 1, 'Let It Be (Remastered 2009)': 1, 'Thoughts Of A Dying Atheist': 1, 'What You Meant': 1, \"Don't Look Back into the Sun\": 1, 'Rolling Stone': 1, '22': 1, 'Sober': 1, 'Stockholm Syndrome': 1, 'War Buddies': 1, \"Don't Stop (Live)\": 1, \"Don't Look Back In Anger (Remastered)\": 1, \"Adam's Song\": 1, 'Underground': 1, 'Butterflies and Hurricanes': 1, 'Old Brown Shoe (Remastered 2009)': 1, 'The Safety Dance': 1, 'Girls Who Play Guitar': 1, 'Overdue': 1, 'Lydia, The Ink Will Never Dry': 1, 'Sandblasted And Set Free': 1, 'The Story Of Us': 1, 'My Iron Lung': 1, 'Sound and Vision (1999 Remastered Version)': 1, 'What Katie Did': 1, \"(This Is) The Thrilling Conversation You've Been Waiting For\": 1, 'Little Talks': 1, 'Eleanor Put Your Boots On': 1, 'Fashion': 1, 'Foundations (Full Version)': 1, 'Time Is Running Out': 1, 'The Unshockable': 1, 'Our Velocity': 1, 'Endlessly': 1, 'Midnight On The Hill': 1, 'Dreams': 1, 'R U Mine?': 1, 'Paperback Writer (Remastered 2009)': 1, 'Sing For Absolution': 1, 'Magic': 1, \"Hate This and I'll Love You\": 1, \"You're The Reason I'm Leaving\": 1, 'Working Man': 1, 'Bones': 1, 'Assassin': 1, 'Wine, Women and Song': 1, 'Somebody That I Used To Know': 1, 'China Girl (2002 Remastered Version)': 1, 'Escape': 1, 'Undisclosed Desires': 1, 'Authenticity': 1, 'The Scientist': 1, 'Well That Was Easy': 1, 'I Feel Fine (Remastered 2009)': 1, 'Viva La Vida': 1, 'New Born': 1, 'This Fire': 1, 'Karaoke Plays': 1, 'A Certain Romance': 1, 'Rhiannon': 1, 'Innocent': 1, 'Revolution (Remastered 2009)': 1, 'The River': 1, 'How The Other Half Live': 1, 'ScheiBe': 1, 'Hate To Say I Told You So': 1, 'From The Ritz To The Rubble': 1, 'Dam Busters March': 1, 'Katherine Kiss Me': 1, 'Adventure Of A Lifetime': 1, 'Yellow': 1, \"What's My Age Again?\": 1, 'Intro (Live)': 1, \"Let's Dance (1999 Remastered Version)\": 1, 'Street Spirit (Fade Out)': 1, 'Fade Together': 1, 'Picture, Picture': 1, 'Teenagers': 1, \"A Fortnight's Time\": 1, 'Paranoid Android': 1, 'Radioman': 1, 'Jerk It Out (Original Mix)': 1, 'Whatever': 1, 'Drinking Martinis': 1, 'Big Freeze': 1, 'Under Pressure': 1, 'Ghosts': 1, 'Better Than Revenge': 1, 'Rain (Remastered 2009)': 1, \"Soldier's Poem\": 1, 'Exo-Politics': 1, 'Getting Better (Remastered 2009)': 1, 'Cream on Chrome': 1, 'Diminishing Returns': 1, 'Believe': 1, 'Bliss': 1, 'Demons': 1, 'Nosebleed': 1, 'Invincible': 1, 'Brief Encounters': 1, 'Russian Literature': 1, 'I Bet You Look Good On The Dancefloor': 1, 'Life On Mars? (1999 - Remaster)': 1, 'Feel Good Inc': 1, 'Stuck on the puzzle': 1, 'Your Urge': 1, 'This Is The Place': 1, 'My Bloody Mind': 1, 'Stand On the Horizon': 1, 'All The Small Things': 1, 'The Ballad Of John And Yoko (Remastered 2009)': 1, \"That's Entertainment\": 1, 'Dear John': 1, 'The Importance Of Being Idle': 1, 'Starts With Nothing': 1, 'Roll With It': 1, 'Oh! You Pretty Things (1999 Remastered Version)': 1, \"Don't Listen To The Radio\": 1, 'Fall': 1, 'Come A Little Closer': 1, 'Five Years (2012 Remastered Version)': 1, 'Little Lion Man': 1, 'Common People (Full Length Version; Album Version)': 1, 'For the First Time': 1, 'The Universe Expanded': 1, 'Love Me Do (Mono / Remastered 2015)': 1, 'Disco 2000': 1, 'Resistance': 1, 'Precious': 1, 'Bailen Muevan': 1, 'Young And Beautiful': 1, \"Movin' on Up\": 1, 'I Am The Walrus': 1, 'Sugar': 1, \"Remember You're A Girl\": 1, 'Ashes To Ashes': 1, 'Kooks (2015 Remastered Version)': 1, 'By The Monument': 1, 'Silver Springs (2004 Remastered Edition)': 1, 'Good Morning Good Morning (Remastered 2009)': 1, 'Riot Van': 1, 'Judas': 1, 'Never Grow Up': 1, 'All-American Prophet': 1, 'I Recognise The Light': 1, 'Little Round Mirrors': 1, \"Road Trippin'\": 1, 'Bullet': 1, 'My Fault': 1, 'The Phantom Of The Opera': 1, '1901': 1, 'Trouble': 1, 'Sometimes': 1, 'Riptide': 1, 'Everything In Its Right Place': 1, \"I'm Yours\": 1, 'Space Oddity (1999 Remastered Version)': 1, 'Dancing In The Street (2002 Remastered Version)': 1, 'Superman': 1, 'Life On Mars? (2015 Remastered Version)': 1, 'Back To December': 1, \"I'm Your Villain\": 1, 'Hysteria': 1, 'Frequency': 1, 'Goodbye Lovers and Friends': 1, 'I Want To Hold Your Hand (Remastered 2009)': 1, 'Signal And Sign': 1, \"She's Electric (Remastered)\": 1, 'You Could Have It So Much Better': 1, 'Cigarettes & Alcohol (Remastered)': 1, \"Don't Let Me Down (Remastered 2009)\": 1, 'Lyla': 1, \"Say It Ain't So\": 1, 'Brightest Star': 1, 'Hair': 1, 'Push': 1, 'Pike St./Park Slope': 1, 'Loyalty Bldg.': 1, 'When The Sun Goes Down': 1, 'The Same As Being In Love': 1, 'I Want To Hold Your Hand (Remastered 2015)': 1, 'Addicted To Drugs': 1, 'Modern Love (2002 Remastered Version)': 1, 'Enchanted': 1, 'Things Change': 1, 'Long Way From Celebrating': 1, \"Where We're Going\": 1, 'Cannonball': 1, 'Books From Boxes': 1, 'Tiptoe': 1, 'Cha-Ching (Till We Grow Older)': 1, 'Give, Get, Take': 1, 'Uprising': 1, 'Across The Universe (Remastered 2009)': 1, 'There Goes The Fear': 1, 'Kiss This Love Goodbye': 1, 'Scar Tissue': 1, 'Clocks (Radio Edit)': 1, 'Dreams (Live)': 1, 'King And Lionheart': 1, 'Live Alone': 1, 'Ashes To Ashes (2002 Remastered Version)': 1, 'Skyrim Theme (Metal Version)': 1, 'Left Hand Free': 1, \"Can't Stop Feeling\": 1, 'Graffiti': 1, 'Him': 1, 'Lovely Rita (Remastered 2009)': 1, 'She Loves You (Mono / Remastered 2015)': 1, 'Is It True?': 1, 'Day Tripper (Remastered 2015)': 1, 'Little By Little': 1})\n"
     ]
    },
    {
     "data": {
      "text/plain": [
       "True"
      ]
     },
     "execution_count": 238,
     "metadata": {},
     "output_type": "execute_result"
    }
   ],
   "source": [
    "playlist = Playlist()\n",
    "playlist.clear_tracks()\n",
    "playlist.add_tracks(generate_flow([most_listened_to_songs, random_song_from_top_n_artists, deezer_flow]))"
   ]
  },
  {
   "cell_type": "code",
   "execution_count": 236,
   "metadata": {
    "collapsed": false
   },
   "outputs": [
    {
     "name": "stdout",
     "output_type": "stream",
     "text": [
      "[16, 16, 16]\n",
      "Counter({'Go Your Own Way (2004 Remastered Edition)': 21, 'We Are the People': 20, 'Girl From Mars': 16, 'Dreams (Remastered)': 14, 'Clarity (Radio Edit Version)': 14, 'Everywhere': 13, 'The Chain (Remastered)': 13, 'Mercy': 11, 'Second Hand News (2004 Remastered Edition)': 11, 'Little Lies': 11, 'Dead Inside': 11, 'Never Going Back Again (2004 Remastered Edition)': 10, 'Reapers': 9, 'Psycho': 9, 'Somebody Told Me': 9, 'Dreams (2004 Remastered Edition)': 9, 'Some Might Say': 9, 'Aftermath': 8, 'Young Folks': 8, 'Teardrop': 8, \"Don't Stop (2004 Remastered Edition)\": 8, 'Tokyo (Vampires & Wolves)': 7, 'Defector': 7, '[JFK]': 7, 'The Handler': 7, 'Songbird': 6, 'Best Day Of My Life': 6, 'Sonnet': 6, 'In The Heat Of The Moment': 6, 'Are You Gonna Be My Girl': 6, 'How You Remind Me': 6, 'The Chain (2004 Remastered Edition)': 6, 'Revolt': 6, 'Princess of China': 6, 'Doom And Gloom': 6, 'Kids': 6, 'Golden Skans': 6, 'Just': 6, \"I Don't Want To Know (2004 Remastered Edition)\": 5, 'French Navy': 5, 'Little Shocks': 5, 'There She Goes': 5, 'Shut Up and Dance': 5, 'The Globalist': 5, 'Songbird (2004 Remastered Edition)': 5, 'Do I Wanna Know?': 4, 'Another Sunny Day': 4, \"Don't Look Back In Anger\": 4, 'Starlight': 4, 'Madness': 4, 'Knights Of Cydonia': 4, 'An End Has A Start': 4, 'Supermassive Black Hole': 4, 'You Make Loving Fun (2004 Remastered Edition)': 4, 'Supersonic': 4, 'Shakermaker': 4, 'Explorers': 4, \"Love's Not A Competition (But I'm Winning)\": 4, 'Listen To Your Head': 4, 'Never Going Back Again (Remastered)': 4, \"Don't Stop (Remastered)\": 4, 'Songbird (Remastered)': 4, 'Wonderwall': 4, 'No One Knows': 4, 'We Were Children': 4, 'Going Underground': 4, 'Everything Is Average Nowadays': 3, 'Losing My Religion': 3, 'Hands Open': 3, 'I Always Knew': 3, 'On Top Of The World': 3, 'Who The Fuck Are Arctic Monkeys?': 3, 'Good Days Bad Days': 3, 'Drones': 3, 'Snap Out Of It': 3, 'Kinda Girl You Are': 3, 'All Around The World': 3, 'Somewhere Only We Know': 3, 'Karma Police': 3, 'Mad Sounds': 3, 'Underdog': 3, 'Animals': 3, 'Supremacy': 3, 'Dakota (Decade In The Sun Version)': 3, 'Cigarettes & Alcohol': 3, 'Live Forever': 3, 'Follow Me': 3, 'Amsterdam': 3, \"Why'd You Only Call Me When You're High?\": 3, 'Bad Day': 3, 'Knee Socks': 3, 'My Type': 3, 'Stand By Me': 3, 'Second Hand News (Remastered)': 3, 'Oh Daddy (2004 Remastered Edition)': 3, 'Walk Away': 3, 'Showbiz': 3, \"Ever Fallen in Love (With Someone You Shouldn't've?) (1996 Remastered Version)\": 3, 'Falling Awake': 3, 'I Want It All': 3, 'Drops of Jupiter': 3, 'Oh My God': 3, 'Fireside': 3, 'One For The Road': 3, 'Feeling Good': 3, 'Skyrim Theme': 3, 'Club Foot': 3, 'Arabella': 3, 'Bleeding Out': 3, 'Ruby': 3, 'The Hindu Times': 3, 'Stop Crying Your Heart Out': 3, 'Everyday I Love You Less And Less': 3, 'Survival': 3, 'Mean': 3, 'Plug In Baby': 3, 'Alright': 3, 'The Angry Mob': 3, 'Teenage Icon': 3, 'No. 1 Party Anthem': 3, 'Heroes (1999 Remastered Version)': 2, 'One More Night': 2, 'Born This Way': 2, 'Gold Dust Woman (2004 Remastered Edition)': 2, 'Hoodoo': 2, 'Outsiders': 2, 'Speak Now': 2, 'You Can Have It All': 2, 'Half The World Away': 2, 'Every Teardrop Is a Waterfall': 2, 'Maybe in the Dark': 2, 'Nothing Left To Say / Rocks (Medley)': 2, 'Anyone Can Play Guitar': 2, 'Evil And A Heathen': 2, 'Over My Head (Cable Car)': 2, 'Always': 2, 'I Predict A Riot': 2, 'How to Save a Life': 2, 'You Found Me': 2, 'I Wanna Be Yours': 2, 'Bigmouth Strikes Again (2011 Remastered Version)': 2, 'Instant Crush': 2, 'Look After You': 2, 'Grace': 2, 'I Found Out': 2, 'Blue Jeans': 2, 'The Fear': 2, 'I Wish I Was A Girl': 2, 'Never Say Never': 2, 'Fillip': 2, 'Use Somebody': 2, 'City Of Delusion': 2, 'On The Run': 2, 'Call Me Maybe': 2, 'Man On Mars': 2, 'Brain Cells': 2, 'Wide Awake': 2, 'Panic Station': 2, 'You Miss The Point Completely I Get The Point Exactly': 2, 'This Boy': 2, 'Sunburn': 2, 'Round And Round': 2, 'Do You Want To': 2, 'Take a Bow': 2, 'Glorious': 2, 'Ulysses': 2, 'How Soon Is Now?': 2, 'Unintended': 2, 'The Fallen': 2, 'Smile': 2, 'This Modern Love': 2, 'Muscle Museum': 2, 'So This Is Great Britain?': 2, 'Cave': 2, 'Pumped up Kicks': 2, 'Falling Down': 2, 'Map Of The Problematique': 2, 'Mountain Sound': 2, 'Hear Me': 2, 'Every Night': 2, 'Modern Way': 2, 'Roll With It (Remastered)': 2, 'You Make Loving Fun (Remastered)': 2, 'This Charming Man': 2, 'Promises': 2, 'Half The World Away (Remastered)': 2, 'Cool James': 2, 'Leave This Island': 2, 'Champagne Supernova': 2, 'Closing Time': 2, 'Lord Don’t Slow Me Down': 2, 'Never Miss A Beat': 2, 'The Masterplan': 1, 'You Talk': 1, 'Yellow Light': 1, 'A Sky Full of Stars': 1, 'Monday Morning (Live)': 1, 'Wild Is The Wind (1999 Remastered Version)': 1, 'Blue On Blue': 1, 'Money (2011 Remastered Version)': 1, 'Misery Company': 1, 'I Miss You': 1, 'Prelude': 1, 'Paradise': 1, 'Californication': 1, 'Charlie Brown': 1, 'Her Name Was Audre': 1, 'Parisian Skies': 1, 'Let It Be (Remastered 2009)': 1, 'Thoughts Of A Dying Atheist': 1, 'What You Meant': 1, \"Don't Look Back into the Sun\": 1, 'Rolling Stone': 1, '22': 1, 'Sober': 1, 'Stockholm Syndrome': 1, 'War Buddies': 1, \"Don't Stop (Live)\": 1, \"Don't Look Back In Anger (Remastered)\": 1, \"Adam's Song\": 1, 'Underground': 1, 'Butterflies and Hurricanes': 1, 'Old Brown Shoe (Remastered 2009)': 1, 'The Safety Dance': 1, 'Girls Who Play Guitar': 1, 'Overdue': 1, 'Lydia, The Ink Will Never Dry': 1, 'Sandblasted And Set Free': 1, 'The Story Of Us': 1, 'My Iron Lung': 1, 'Sound and Vision (1999 Remastered Version)': 1, 'What Katie Did': 1, \"(This Is) The Thrilling Conversation You've Been Waiting For\": 1, 'Little Talks': 1, 'Eleanor Put Your Boots On': 1, 'Fashion': 1, 'Foundations (Full Version)': 1, 'Time Is Running Out': 1, 'The Unshockable': 1, 'Our Velocity': 1, 'Endlessly': 1, 'Midnight On The Hill': 1, 'Dreams': 1, 'R U Mine?': 1, 'Paperback Writer (Remastered 2009)': 1, 'Sing For Absolution': 1, 'Magic': 1, \"Hate This and I'll Love You\": 1, \"You're The Reason I'm Leaving\": 1, 'Working Man': 1, 'Bones': 1, 'Assassin': 1, 'Wine, Women and Song': 1, 'Somebody That I Used To Know': 1, 'China Girl (2002 Remastered Version)': 1, 'Escape': 1, 'Undisclosed Desires': 1, 'Authenticity': 1, 'The Scientist': 1, 'Well That Was Easy': 1, 'I Feel Fine (Remastered 2009)': 1, 'Viva La Vida': 1, 'New Born': 1, 'This Fire': 1, 'Karaoke Plays': 1, 'A Certain Romance': 1, 'Rhiannon': 1, 'Innocent': 1, 'Revolution (Remastered 2009)': 1, 'The River': 1, 'How The Other Half Live': 1, 'ScheiBe': 1, 'Hate To Say I Told You So': 1, 'From The Ritz To The Rubble': 1, 'Dam Busters March': 1, 'Katherine Kiss Me': 1, 'Adventure Of A Lifetime': 1, 'Yellow': 1, \"What's My Age Again?\": 1, 'Intro (Live)': 1, \"Let's Dance (1999 Remastered Version)\": 1, 'Street Spirit (Fade Out)': 1, 'Fade Together': 1, 'Picture, Picture': 1, 'Teenagers': 1, \"A Fortnight's Time\": 1, 'Paranoid Android': 1, 'Radioman': 1, 'Jerk It Out (Original Mix)': 1, 'Whatever': 1, 'Drinking Martinis': 1, 'Big Freeze': 1, 'Under Pressure': 1, 'Ghosts': 1, 'Better Than Revenge': 1, 'Rain (Remastered 2009)': 1, \"Soldier's Poem\": 1, 'Exo-Politics': 1, 'Getting Better (Remastered 2009)': 1, 'Cream on Chrome': 1, 'Diminishing Returns': 1, 'Believe': 1, 'Bliss': 1, 'Demons': 1, 'Nosebleed': 1, 'Invincible': 1, 'Brief Encounters': 1, 'Russian Literature': 1, 'I Bet You Look Good On The Dancefloor': 1, 'Life On Mars? (1999 - Remaster)': 1, 'Feel Good Inc': 1, 'Stuck on the puzzle': 1, 'Your Urge': 1, 'This Is The Place': 1, 'My Bloody Mind': 1, 'Stand On the Horizon': 1, 'All The Small Things': 1, 'The Ballad Of John And Yoko (Remastered 2009)': 1, \"That's Entertainment\": 1, 'Dear John': 1, 'The Importance Of Being Idle': 1, 'Starts With Nothing': 1, 'Roll With It': 1, 'Oh! You Pretty Things (1999 Remastered Version)': 1, \"Don't Listen To The Radio\": 1, 'Fall': 1, 'Come A Little Closer': 1, 'Five Years (2012 Remastered Version)': 1, 'Little Lion Man': 1, 'Common People (Full Length Version; Album Version)': 1, 'For the First Time': 1, 'The Universe Expanded': 1, 'Love Me Do (Mono / Remastered 2015)': 1, 'Disco 2000': 1, 'Resistance': 1, 'Precious': 1, 'Bailen Muevan': 1, 'Young And Beautiful': 1, \"Movin' on Up\": 1, 'I Am The Walrus': 1, 'Sugar': 1, \"Remember You're A Girl\": 1, 'Ashes To Ashes': 1, 'Kooks (2015 Remastered Version)': 1, 'By The Monument': 1, 'Silver Springs (2004 Remastered Edition)': 1, 'Good Morning Good Morning (Remastered 2009)': 1, 'Riot Van': 1, 'Judas': 1, 'Never Grow Up': 1, 'All-American Prophet': 1, 'I Recognise The Light': 1, 'Little Round Mirrors': 1, \"Road Trippin'\": 1, 'Bullet': 1, 'My Fault': 1, 'The Phantom Of The Opera': 1, '1901': 1, 'Trouble': 1, 'Sometimes': 1, 'Riptide': 1, 'Everything In Its Right Place': 1, \"I'm Yours\": 1, 'Space Oddity (1999 Remastered Version)': 1, 'Dancing In The Street (2002 Remastered Version)': 1, 'Superman': 1, 'Life On Mars? (2015 Remastered Version)': 1, 'Back To December': 1, \"I'm Your Villain\": 1, 'Hysteria': 1, 'Frequency': 1, 'Goodbye Lovers and Friends': 1, 'I Want To Hold Your Hand (Remastered 2009)': 1, 'Signal And Sign': 1, \"She's Electric (Remastered)\": 1, 'You Could Have It So Much Better': 1, 'Cigarettes & Alcohol (Remastered)': 1, \"Don't Let Me Down (Remastered 2009)\": 1, 'Lyla': 1, \"Say It Ain't So\": 1, 'Brightest Star': 1, 'Hair': 1, 'Push': 1, 'Pike St./Park Slope': 1, 'Loyalty Bldg.': 1, 'When The Sun Goes Down': 1, 'The Same As Being In Love': 1, 'I Want To Hold Your Hand (Remastered 2015)': 1, 'Addicted To Drugs': 1, 'Modern Love (2002 Remastered Version)': 1, 'Enchanted': 1, 'Things Change': 1, 'Long Way From Celebrating': 1, \"Where We're Going\": 1, 'Cannonball': 1, 'Books From Boxes': 1, 'Tiptoe': 1, 'Cha-Ching (Till We Grow Older)': 1, 'Give, Get, Take': 1, 'Uprising': 1, 'Across The Universe (Remastered 2009)': 1, 'There Goes The Fear': 1, 'Kiss This Love Goodbye': 1, 'Scar Tissue': 1, 'Clocks (Radio Edit)': 1, 'Dreams (Live)': 1, 'King And Lionheart': 1, 'Live Alone': 1, 'Ashes To Ashes (2002 Remastered Version)': 1, 'Skyrim Theme (Metal Version)': 1, 'Left Hand Free': 1, \"Can't Stop Feeling\": 1, 'Graffiti': 1, 'Him': 1, 'Lovely Rita (Remastered 2009)': 1, 'She Loves You (Mono / Remastered 2015)': 1, 'Is It True?': 1, 'Day Tripper (Remastered 2015)': 1, 'Little By Little': 1})\n"
     ]
    },
    {
     "data": {
      "text/plain": [
       "[('Girl From Mars', 16),\n",
       " ('Kids', 6),\n",
       " ('Doom And Gloom', 6),\n",
       " ('Dreams (2004 Remastered Edition)', 9),\n",
       " ('Best Day Of My Life', 6),\n",
       " ('How You Remind Me', 6),\n",
       " (\"Don't Stop (2004 Remastered Edition)\", 8),\n",
       " ('Young Folks', 8),\n",
       " ('Some Might Say', 9),\n",
       " ('Tokyo (Vampires & Wolves)', 7),\n",
       " ('Second Hand News (2004 Remastered Edition)', 11),\n",
       " (\"I Don't Want To Know (2004 Remastered Edition)\", 5),\n",
       " ('Princess of China', 6),\n",
       " ('Dead Inside', 11),\n",
       " ('In The Heat Of The Moment', 6),\n",
       " 101215858,\n",
       " 63480990,\n",
       " 101215850,\n",
       " 74172985,\n",
       " 70322139,\n",
       " 3599714,\n",
       " 26608101,\n",
       " 67549275,\n",
       " 664437,\n",
       " 26608061,\n",
       " 70322134,\n",
       " 85909191,\n",
       " 70322133,\n",
       " 664445,\n",
       " 4315310,\n",
       " 946317,\n",
       " 3165194,\n",
       " 941558,\n",
       " 30521631,\n",
       " 102292706,\n",
       " 3134034,\n",
       " 3157501,\n",
       " 3751638,\n",
       " 55829181,\n",
       " 69975639,\n",
       " 13181907,\n",
       " 1093484,\n",
       " 7372874,\n",
       " 68097788,\n",
       " 2541626]"
      ]
     },
     "execution_count": 236,
     "metadata": {},
     "output_type": "execute_result"
    }
   ],
   "source": [
    "generate_flow([most_listened_to_songs, random_song_from_top_n_artists, deezer_flow])"
   ]
  },
  {
   "cell_type": "code",
   "execution_count": 216,
   "metadata": {
    "collapsed": false
   },
   "outputs": [],
   "source": [
    "def random_song_from_top_n_artists(history, number_of_artists = 5):\n",
    "    artists = [x.artist_id for x in history]\n",
    "    counter = Counter(artists)\n",
    "    artist_ids = [x[0] for x in counter.most_common(5)]\n",
    "    songs = []\n",
    "    for artist_id in artist_ids:\n",
    "        raw = requests.get(r\"https://api.deezer.com/artist/{0}/top?limit=20\".format(artist_id)).json()\n",
    "        songs.extend([x[\"id\"] for x in raw[\"data\"]])\n",
    "    return songs"
   ]
  },
  {
   "cell_type": "code",
   "execution_count": 224,
   "metadata": {
    "collapsed": false
   },
   "outputs": [],
   "source": [
    "def deezer_flow(history):\n",
    "    url = r\"http://api.deezer.com/user/me/flow?access_token={0}\".format(access_token)\n",
    "    return [x[\"id\"] for x in requests.get(url).json()[\"data\"]]"
   ]
  },
  {
   "cell_type": "code",
   "execution_count": 225,
   "metadata": {
    "collapsed": false
   },
   "outputs": [
    {
     "data": {
      "text/plain": [
       "[15908435,\n",
       " 2420458,\n",
       " 95956384,\n",
       " 13139232,\n",
       " 910079,\n",
       " 74683990,\n",
       " 1178034,\n",
       " 3129407,\n",
       " 4622567,\n",
       " 3157501,\n",
       " 3590194,\n",
       " 13547128,\n",
       " 6685848,\n",
       " 2924841,\n",
       " 4624027,\n",
       " 946317,\n",
       " 3130433,\n",
       " 2754843,\n",
       " 102292706,\n",
       " 44230981,\n",
       " 1178161,\n",
       " 67238732,\n",
       " 39376531,\n",
       " 2936707,\n",
       " 7179758]"
      ]
     },
     "execution_count": 225,
     "metadata": {},
     "output_type": "execute_result"
    }
   ],
   "source": [
    "deezer_flow(\"Jake\")"
   ]
  },
  {
   "cell_type": "code",
   "execution_count": null,
   "metadata": {
    "collapsed": true
   },
   "outputs": [],
   "source": []
  }
 ],
 "metadata": {
  "kernelspec": {
   "display_name": "Python 3",
   "language": "python",
   "name": "python3"
  },
  "language_info": {
   "codemirror_mode": {
    "name": "ipython",
    "version": 3
   },
   "file_extension": ".py",
   "mimetype": "text/x-python",
   "name": "python",
   "nbconvert_exporter": "python",
   "pygments_lexer": "ipython3",
   "version": "3.5.1"
  }
 },
 "nbformat": 4,
 "nbformat_minor": 0
}
