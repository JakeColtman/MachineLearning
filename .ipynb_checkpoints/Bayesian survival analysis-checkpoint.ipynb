{
 "cells": [
  {
   "cell_type": "code",
   "execution_count": 71,
   "metadata": {
    "collapsed": false
   },
   "outputs": [
    {
     "data": {
      "text/plain": [
       "'austinrochford.com'"
      ]
     },
     "execution_count": 71,
     "metadata": {},
     "output_type": "execute_result"
    }
   ],
   "source": [
    "'''austinrochford.com'''"
   ]
  },
  {
   "cell_type": "code",
   "execution_count": 1,
   "metadata": {
    "collapsed": true
   },
   "outputs": [],
   "source": [
    "%matplotlib inline\n",
    "from matplotlib import pyplot as plt\n",
    "import numpy as np \n",
    "import pymc3 as pm\n",
    "from pymc3.distributions.timeseries import GaussianRandomWalk\n",
    "import seaborn as sns"
   ]
  },
  {
   "cell_type": "code",
   "execution_count": 2,
   "metadata": {
    "collapsed": true
   },
   "outputs": [],
   "source": [
    "from theano import tensor as T"
   ]
  },
  {
   "cell_type": "code",
   "execution_count": 4,
   "metadata": {
    "collapsed": true
   },
   "outputs": [],
   "source": [
    "from statsmodels import datasets"
   ]
  },
  {
   "cell_type": "code",
   "execution_count": 6,
   "metadata": {
    "collapsed": false
   },
   "outputs": [],
   "source": [
    "df = datasets.get_rdataset('mastectomy', 'HSAUR', cache = True).data\n"
   ]
  },
  {
   "cell_type": "code",
   "execution_count": 7,
   "metadata": {
    "collapsed": false
   },
   "outputs": [
    {
     "data": {
      "text/html": [
       "<div>\n",
       "<table border=\"1\" class=\"dataframe\">\n",
       "  <thead>\n",
       "    <tr style=\"text-align: right;\">\n",
       "      <th></th>\n",
       "      <th>time</th>\n",
       "      <th>event</th>\n",
       "      <th>metastized</th>\n",
       "    </tr>\n",
       "  </thead>\n",
       "  <tbody>\n",
       "    <tr>\n",
       "      <th>0</th>\n",
       "      <td>23</td>\n",
       "      <td>True</td>\n",
       "      <td>no</td>\n",
       "    </tr>\n",
       "    <tr>\n",
       "      <th>1</th>\n",
       "      <td>47</td>\n",
       "      <td>True</td>\n",
       "      <td>no</td>\n",
       "    </tr>\n",
       "    <tr>\n",
       "      <th>2</th>\n",
       "      <td>69</td>\n",
       "      <td>True</td>\n",
       "      <td>no</td>\n",
       "    </tr>\n",
       "    <tr>\n",
       "      <th>3</th>\n",
       "      <td>70</td>\n",
       "      <td>False</td>\n",
       "      <td>no</td>\n",
       "    </tr>\n",
       "    <tr>\n",
       "      <th>4</th>\n",
       "      <td>100</td>\n",
       "      <td>False</td>\n",
       "      <td>no</td>\n",
       "    </tr>\n",
       "  </tbody>\n",
       "</table>\n",
       "</div>"
      ],
      "text/plain": [
       "   time  event metastized\n",
       "0    23   True         no\n",
       "1    47   True         no\n",
       "2    69   True         no\n",
       "3    70  False         no\n",
       "4   100  False         no"
      ]
     },
     "execution_count": 7,
     "metadata": {},
     "output_type": "execute_result"
    }
   ],
   "source": [
    "df.head()\n"
   ]
  },
  {
   "cell_type": "code",
   "execution_count": 10,
   "metadata": {
    "collapsed": false
   },
   "outputs": [],
   "source": [
    "df.event = df.event.astype(np.int64)\n",
    "df.metastized = (df.metastized == 'yes').astype(np.int64)\n",
    "n_patients = df.shape[0]"
   ]
  },
  {
   "cell_type": "code",
   "execution_count": 11,
   "metadata": {
    "collapsed": false
   },
   "outputs": [
    {
     "data": {
      "text/html": [
       "<div>\n",
       "<table border=\"1\" class=\"dataframe\">\n",
       "  <thead>\n",
       "    <tr style=\"text-align: right;\">\n",
       "      <th></th>\n",
       "      <th>time</th>\n",
       "      <th>event</th>\n",
       "      <th>metastized</th>\n",
       "    </tr>\n",
       "  </thead>\n",
       "  <tbody>\n",
       "    <tr>\n",
       "      <th>0</th>\n",
       "      <td>23</td>\n",
       "      <td>1</td>\n",
       "      <td>0</td>\n",
       "    </tr>\n",
       "    <tr>\n",
       "      <th>1</th>\n",
       "      <td>47</td>\n",
       "      <td>1</td>\n",
       "      <td>0</td>\n",
       "    </tr>\n",
       "    <tr>\n",
       "      <th>2</th>\n",
       "      <td>69</td>\n",
       "      <td>1</td>\n",
       "      <td>0</td>\n",
       "    </tr>\n",
       "    <tr>\n",
       "      <th>3</th>\n",
       "      <td>70</td>\n",
       "      <td>0</td>\n",
       "      <td>0</td>\n",
       "    </tr>\n",
       "    <tr>\n",
       "      <th>4</th>\n",
       "      <td>100</td>\n",
       "      <td>0</td>\n",
       "      <td>0</td>\n",
       "    </tr>\n",
       "  </tbody>\n",
       "</table>\n",
       "</div>"
      ],
      "text/plain": [
       "   time  event  metastized\n",
       "0    23      1           0\n",
       "1    47      1           0\n",
       "2    69      1           0\n",
       "3    70      0           0\n",
       "4   100      0           0"
      ]
     },
     "execution_count": 11,
     "metadata": {},
     "output_type": "execute_result"
    }
   ],
   "source": [
    "df.head()"
   ]
  },
  {
   "cell_type": "markdown",
   "metadata": {},
   "source": [
    "Interested in looking at S(t) = P(T > t) = 1 - F(t)\n",
    "Where T is the time to the event we are looking for.\n",
    "\n",
    "S(t) is the probability of the observed unit surviving at least as long as t\n",
    "\n",
    "Makes life easy to use the hazard rate $$\\lambda(t)$$, the instantaneous probability of dying at t conditioned on being alive."
   ]
  },
  {
   "cell_type": "markdown",
   "metadata": {},
   "source": [
    "$$ \\lambda(t) = \\lim_{\\Delta t -> 0} \\frac{ P(t < T < t + \\Delta t | T > t)}{\\Delta t} $$"
   ]
  },
  {
   "cell_type": "markdown",
   "metadata": {},
   "source": [
    "$$ \\lambda(t) = \\lim_{\\Delta t -> 0} \\frac{ P(t < T < t + \\Delta t)}{\\Delta t * P(T > t) } $$"
   ]
  },
  {
   "cell_type": "markdown",
   "metadata": {},
   "source": [
    "$$ \\lambda(t) = \\frac {1}{S(t)} * \\lim_{\\Delta t -> 0} \\frac{ S(t + \\Delta t) - S(t) }{\\Delta t} $$"
   ]
  },
  {
   "cell_type": "markdown",
   "metadata": {},
   "source": [
    "$$ \\lambda(t) = - \\frac {S'(t)}{S(t)} $$"
   ]
  },
  {
   "cell_type": "markdown",
   "metadata": {},
   "source": [
    "$$S(t) = exp(-\\int_{0} ^ {s}\\lambda (s)  d(s))$$"
   ]
  },
  {
   "cell_type": "markdown",
   "metadata": {},
   "source": [
    "Shows the link between the survival function and the cumulative hazard function:\n",
    "    \n",
    "$$ \\Lambda (t) = \\int_{0}^{t} \\lambda (s) ds$$\n",
    "\n",
    "$$ S(t) = exp( - \\Lambda (t) )$$"
   ]
  },
  {
   "cell_type": "code",
   "execution_count": 15,
   "metadata": {
    "collapsed": true
   },
   "outputs": [],
   "source": [
    "patients = np.arange(n_patients)"
   ]
  },
  {
   "cell_type": "code",
   "execution_count": 26,
   "metadata": {
    "collapsed": false
   },
   "outputs": [
    {
     "data": {
      "text/plain": [
       "<matplotlib.legend.Legend at 0xacfc65cc>"
      ]
     },
     "execution_count": 26,
     "metadata": {},
     "output_type": "execute_result"
    },
    {
     "data": {
      "image/png": "[encoded data removed]",
      "text/plain": [
       "<matplotlib.figure.Figure at 0xacca4e2c>"
      ]
     },
     "metadata": {},
     "output_type": "display_data"
    }
   ],
   "source": [
    "fig, ax = plt.subplots(figsize = (8, 6))\n",
    "blue, _, red = sns.color_palette()[:3]\n",
    "\n",
    "ax.hlines(patients[df.event.values == 0], 0, df[df.event.values == 0].time, color = blue, label = \"Censored\")\n",
    "ax.hlines(patients[df.event.values == 1], 0, df[df.event.values == 1].time, color = red, label = \"UnCensored\")\n",
    "\n",
    "plt.scatter(df[df.metastized.values == 1].time, patients[df.metastized.values == 1], color = \"black\", label = \"metastized\")\n",
    "plt.xlim(0, 250)\n",
    "plt.ylim(-1, 45)\n",
    "plt.xlabel(\"Month since mastectomy\")\n",
    "plt.legend(loc = \"center right\")"
   ]
  },
  {
   "cell_type": "markdown",
   "metadata": {},
   "source": [
    "When df.event is zero (event is censored), the df.time is not survival time, all we know is that the amount is greater than the observed t"
   ]
  },
  {
   "cell_type": "markdown",
   "metadata": {},
   "source": [
    "Two commonly used estimators - Kaplan-Meier estimator of the survival function and the Nelson-Aalen estimator of the cumulative hazard function (see link between the two above)\n",
    "\n",
    "Alternatvie - risk regression model - e.g. Cox's proportional hazards model\n",
    "\n",
    "$$ \\lambda (t) = \\lambda _0 (t) exp(x \\beta) $$"
   ]
  },
  {
   "cell_type": "markdown",
   "metadata": {},
   "source": [
    "lambda_0 is the baseline hazard which is indep of the covariates (think the intercept term)\n",
    "\n",
    "If we're studying the effect of metastiziation then the covariant is the one dimensional vector df.metastized.  No constant term as would make unindentifiable due to lambda_0"
   ]
  },
  {
   "cell_type": "markdown",
   "metadata": {},
   "source": [
    "Need to make priors for l_0 and beta, with meta terms for the means and variances\n",
    "\n",
    "Prior for l_0 isn't obvious.  One solution is to create a stepwise prior.  Bucket periods of time into intervals then choose priors for the N - 1 values lambda_j"
   ]
  },
  {
   "cell_type": "code",
   "execution_count": 27,
   "metadata": {
    "collapsed": true
   },
   "outputs": [],
   "source": [
    "interval_length = 3\n",
    "interval_bounds = np.arange(0, df.time.max() + interval_length + 1, interval_length)"
   ]
  },
  {
   "cell_type": "code",
   "execution_count": 28,
   "metadata": {
    "collapsed": true
   },
   "outputs": [],
   "source": [
    "n_intervals = interval_bounds.size - 1"
   ]
  },
  {
   "cell_type": "code",
   "execution_count": 29,
   "metadata": {
    "collapsed": true
   },
   "outputs": [],
   "source": [
    "intervals = np.arange(n_intervals)"
   ]
  },
  {
   "cell_type": "code",
   "execution_count": 30,
   "metadata": {
    "collapsed": false
   },
   "outputs": [
    {
     "data": {
      "text/plain": [
       "(array([ 0.,  0.,  0.,  0.,  0.,  0.,  0.,  0.,  0.,  0.,  0.,  0.,  0.,\n",
       "         0.,  0.,  0.,  0.,  0.,  0.,  0.,  0.,  0.,  0.,  1.,  0.,  1.,\n",
       "         0.,  0.,  0.,  0.,  0.,  0.,  0.,  2.,  0.,  2.,  1.,  0.,  1.,\n",
       "         0.,  0.,  0.,  0.,  0.,  0.,  0.,  0.,  0.,  1.,  0.,  0.,  0.,\n",
       "         0.,  0.,  1.,  0.,  0.,  0.,  0.,  0.,  0.,  0.,  1.,  0.,  0.,\n",
       "         0.,  1.,  0.,  0.,  1.,  2.,  0.,  1.,  0.,  1.,  1.]),\n",
       " array([  0,   3,   6,   9,  12,  15,  18,  21,  24,  27,  30,  33,  36,\n",
       "         39,  42,  45,  48,  51,  54,  57,  60,  63,  66,  69,  72,  75,\n",
       "         78,  81,  84,  87,  90,  93,  96,  99, 102, 105, 108, 111, 114,\n",
       "        117, 120, 123, 126, 129, 132, 135, 138, 141, 144, 147, 150, 153,\n",
       "        156, 159, 162, 165, 168, 171, 174, 177, 180, 183, 186, 189, 192,\n",
       "        195, 198, 201, 204, 207, 210, 213, 216, 219, 222, 225, 228], dtype=int64),\n",
       " <a list of 76 Patch objects>)"
      ]
     },
     "execution_count": 30,
     "metadata": {},
     "output_type": "execute_result"
    },
    {
     "data": {
      "image/png": "[encoded data removed]",
      "text/plain": [
       "<matplotlib.figure.Figure at 0xaaf9d56c>"
      ]
     },
     "metadata": {},
     "output_type": "display_data"
    }
   ],
   "source": [
    "fig, ax = plt.subplots(figsize = (8,6))\n",
    "\n",
    "ax.hist(df[df.event == 1].time.values, bins = interval_bounds, color = \"r\", label = \"Uncensored\")\n",
    "ax.hist(df[df.event == 0].time.values, bins = interval_bounds, color = \"blue\", label = \"Uncensored\")"
   ]
  },
  {
   "cell_type": "code",
   "execution_count": 31,
   "metadata": {
    "collapsed": true
   },
   "outputs": [],
   "source": [
    "last_period = np.floor( (df.time - 0.01) / interval_length)"
   ]
  },
  {
   "cell_type": "code",
   "execution_count": 32,
   "metadata": {
    "collapsed": true
   },
   "outputs": [],
   "source": [
    "death = np.zeros((n_patients, n_intervals))"
   ]
  },
  {
   "cell_type": "code",
   "execution_count": 51,
   "metadata": {
    "collapsed": false
   },
   "outputs": [
    {
     "data": {
      "text/plain": [
       "array([ 0.,  0.,  0.,  0.,  0.,  0.,  0.,  0.,  0.,  0.,  0.,  0.,  0.,\n",
       "        0.,  0.,  0.,  0.,  0.,  0.,  0.,  0.,  0.,  1.,  0.,  0.,  0.,\n",
       "        0.,  0.,  0.,  0.,  0.,  0.,  0.,  0.,  0.,  0.,  0.,  0.,  0.,\n",
       "        0.,  0.,  0.,  0.,  0.,  0.,  0.,  0.,  0.,  0.,  0.,  0.,  0.,\n",
       "        0.,  0.,  0.,  0.,  0.,  0.,  0.,  0.,  0.,  0.,  0.,  0.,  0.,\n",
       "        0.,  0.,  0.,  0.,  0.,  0.,  0.,  0.,  0.,  0.,  0.])"
      ]
     },
     "execution_count": 51,
     "metadata": {},
     "output_type": "execute_result"
    }
   ],
   "source": [
    "death[2,]"
   ]
  },
  {
   "cell_type": "code",
   "execution_count": 34,
   "metadata": {
    "collapsed": false
   },
   "outputs": [
    {
     "name": "stderr",
     "output_type": "stream",
     "text": [
      "/home/jakecoltman/anaconda3/lib/python3.5/site-packages/ipykernel/__main__.py:1: DeprecationWarning: non integer (and non boolean) array-likes will not be accepted as indices in the future\n",
      "  if __name__ == '__main__':\n"
     ]
    }
   ],
   "source": [
    "death[patients, last_period] = df.event"
   ]
  },
  {
   "cell_type": "code",
   "execution_count": 35,
   "metadata": {
    "collapsed": false
   },
   "outputs": [
    {
     "data": {
      "text/plain": [
       "array([[ 0.,  0.,  0., ...,  0.,  0.,  0.],\n",
       "       [ 0.,  0.,  0., ...,  0.,  0.,  0.],\n",
       "       [ 0.,  0.,  0., ...,  0.,  0.,  0.],\n",
       "       ..., \n",
       "       [ 0.,  0.,  0., ...,  0.,  0.,  0.],\n",
       "       [ 0.,  0.,  0., ...,  0.,  0.,  0.],\n",
       "       [ 0.,  0.,  0., ...,  0.,  0.,  0.]])"
      ]
     },
     "execution_count": 35,
     "metadata": {},
     "output_type": "execute_result"
    }
   ],
   "source": [
    "death"
   ]
  },
  {
   "cell_type": "code",
   "execution_count": 36,
   "metadata": {
    "collapsed": false
   },
   "outputs": [
    {
     "name": "stderr",
     "output_type": "stream",
     "text": [
      "/home/jakecoltman/anaconda3/lib/python3.5/site-packages/ipykernel/__main__.py:2: DeprecationWarning: non integer (and non boolean) array-likes will not be accepted as indices in the future\n",
      "  from ipykernel import kernelapp as app\n"
     ]
    }
   ],
   "source": [
    "exposure = np.greater_equal.outer(df.time, interval_bounds[:-1]) * interval_length\n",
    "exposure[patients, last_period] = df.time - interval_bounds[last_period]"
   ]
  },
  {
   "cell_type": "code",
   "execution_count": 37,
   "metadata": {
    "collapsed": false
   },
   "outputs": [
    {
     "data": {
      "text/plain": [
       "array([[3, 3, 3, ..., 0, 0, 0],\n",
       "       [3, 3, 3, ..., 0, 0, 0],\n",
       "       [3, 3, 3, ..., 0, 0, 0],\n",
       "       ..., \n",
       "       [3, 3, 3, ..., 0, 0, 0],\n",
       "       [3, 3, 3, ..., 0, 0, 0],\n",
       "       [3, 3, 3, ..., 3, 3, 3]])"
      ]
     },
     "execution_count": 37,
     "metadata": {},
     "output_type": "execute_result"
    }
   ],
   "source": [
    "exposure"
   ]
  },
  {
   "cell_type": "code",
   "execution_count": 52,
   "metadata": {
    "collapsed": false
   },
   "outputs": [
    {
     "data": {
      "text/plain": [
       "array([3, 3, 3, 3, 3, 3, 3, 3, 3, 3, 3, 3, 3, 3, 3, 2, 0, 0, 0, 0, 0, 0, 0,\n",
       "       0, 0, 0, 0, 0, 0, 0, 0, 0, 0, 0, 0, 0, 0, 0, 0, 0, 0, 0, 0, 0, 0, 0,\n",
       "       0, 0, 0, 0, 0, 0, 0, 0, 0, 0, 0, 0, 0, 0, 0, 0, 0, 0, 0, 0, 0, 0, 0,\n",
       "       0, 0, 0, 0, 0, 0, 0])"
      ]
     },
     "execution_count": 52,
     "metadata": {},
     "output_type": "execute_result"
    }
   ],
   "source": [
    "exposure[1,]"
   ]
  },
  {
   "cell_type": "markdown",
   "metadata": {},
   "source": [
    "$$ \\lambda _{i,j} = \\lambda _j exp(x _i \\beta) $$"
   ]
  },
  {
   "cell_type": "code",
   "execution_count": 46,
   "metadata": {
    "collapsed": false
   },
   "outputs": [
    {
     "data": {
      "text/plain": [
       "array([ 1.,  1.,  1.,  1.,  1.,  1.,  1.,  1.,  1.,  1.,  1.,  1.,  1.,\n",
       "        1.,  1.,  1.,  1.,  1.,  1.,  1.,  1.,  1.,  1.,  1.,  1.,  1.])"
      ]
     },
     "execution_count": 46,
     "metadata": {},
     "output_type": "execute_result"
    }
   ],
   "source": [
    "death[death[:]!= 0]"
   ]
  },
  {
   "cell_type": "code",
   "execution_count": 66,
   "metadata": {
    "collapsed": false
   },
   "outputs": [
    {
     "name": "stdout",
     "output_type": "stream",
     "text": [
      "Applied log-transform to lambda0 and added transformed lambda0_log to model.\n",
      "Applied interval-transform to sigma and added transformed sigma_interval to model.\n"
     ]
    }
   ],
   "source": [
    "with pm.Model() as model:\n",
    "    lambda0 = pm.Gamma('lambda0', 0.01, 0.01, shape = n_intervals)\n",
    "    \n",
    "    sigma = pm.Uniform('sigma', 0., 10.)\n",
    "    tau = pm.Deterministic('tau', sigma ** 2)\n",
    "    mu_beta = pm.Normal('mu_beta', 0., 10 ** - 2)\n",
    "    beta = pm.Normal('beta', mu_beta, tau)\n",
    "    \n",
    "    lambda_ = pm.Deterministic('lambda_', T.outer(T.exp(beta * df.metastized), lambda0))\n",
    "    mu = pm.Deterministic('mu', exposure * lambda_)\n",
    "    \n",
    "    obs = pm.Poisson('obs', mu, observed = death)"
   ]
  },
  {
   "cell_type": "code",
   "execution_count": 67,
   "metadata": {
    "collapsed": true
   },
   "outputs": [],
   "source": [
    "n_samples = 4000\n",
    "burn = 2000\n",
    "thin = 20"
   ]
  },
  {
   "cell_type": "code",
   "execution_count": 68,
   "metadata": {
    "collapsed": false
   },
   "outputs": [
    {
     "name": "stderr",
     "output_type": "stream",
     "text": [
      "ERROR (theano.gof.opt): SeqOptimizer apply <theano.tensor.opt.FusionOptimizer object at 0xae56788c>\n",
      "ERROR:theano.gof.opt:SeqOptimizer apply <theano.tensor.opt.FusionOptimizer object at 0xae56788c>\n",
      "ERROR (theano.gof.opt): Traceback:\n",
      "ERROR:theano.gof.opt:Traceback:\n",
      "ERROR (theano.gof.opt): Traceback (most recent call last):\n",
      "  File \"/home/jakecoltman/anaconda3/lib/python3.5/site-packages/Theano-0.7.0-py3.5.egg/theano/gof/opt.py\", line 196, in apply\n",
      "    sub_prof = optimizer.optimize(fgraph)\n",
      "  File \"/home/jakecoltman/anaconda3/lib/python3.5/site-packages/Theano-0.7.0-py3.5.egg/theano/gof/opt.py\", line 82, in optimize\n",
      "    ret = self.apply(fgraph, *args, **kwargs)\n",
      "  File \"/home/jakecoltman/anaconda3/lib/python3.5/site-packages/Theano-0.7.0-py3.5.egg/theano/tensor/opt.py\", line 5499, in apply\n",
      "    new_outputs = self.optimizer(node)\n",
      "  File \"/home/jakecoltman/anaconda3/lib/python3.5/site-packages/Theano-0.7.0-py3.5.egg/theano/tensor/opt.py\", line 5434, in local_fuse\n",
      "    n = OP(C)(*inputs).owner\n",
      "  File \"/home/jakecoltman/anaconda3/lib/python3.5/site-packages/Theano-0.7.0-py3.5.egg/theano/tensor/elemwise.py\", line 496, in __init__\n",
      "    scalar_op.nout)\n",
      "ValueError: Cannot construct a ufunc with more than 32 operands (requested number were: inputs = 51 and outputs = 1)\n",
      "\n",
      "ERROR:theano.gof.opt:Traceback (most recent call last):\n",
      "  File \"/home/jakecoltman/anaconda3/lib/python3.5/site-packages/Theano-0.7.0-py3.5.egg/theano/gof/opt.py\", line 196, in apply\n",
      "    sub_prof = optimizer.optimize(fgraph)\n",
      "  File \"/home/jakecoltman/anaconda3/lib/python3.5/site-packages/Theano-0.7.0-py3.5.egg/theano/gof/opt.py\", line 82, in optimize\n",
      "    ret = self.apply(fgraph, *args, **kwargs)\n",
      "  File \"/home/jakecoltman/anaconda3/lib/python3.5/site-packages/Theano-0.7.0-py3.5.egg/theano/tensor/opt.py\", line 5499, in apply\n",
      "    new_outputs = self.optimizer(node)\n",
      "  File \"/home/jakecoltman/anaconda3/lib/python3.5/site-packages/Theano-0.7.0-py3.5.egg/theano/tensor/opt.py\", line 5434, in local_fuse\n",
      "    n = OP(C)(*inputs).owner\n",
      "  File \"/home/jakecoltman/anaconda3/lib/python3.5/site-packages/Theano-0.7.0-py3.5.egg/theano/tensor/elemwise.py\", line 496, in __init__\n",
      "    scalar_op.nout)\n",
      "ValueError: Cannot construct a ufunc with more than 32 operands (requested number were: inputs = 51 and outputs = 1)\n",
      "\n",
      "ERROR (theano.gof.opt): SeqOptimizer apply <theano.tensor.opt.FusionOptimizer object at 0xae56788c>\n",
      "ERROR:theano.gof.opt:SeqOptimizer apply <theano.tensor.opt.FusionOptimizer object at 0xae56788c>\n",
      "ERROR (theano.gof.opt): Traceback:\n",
      "ERROR:theano.gof.opt:Traceback:\n",
      "ERROR (theano.gof.opt): Traceback (most recent call last):\n",
      "  File \"/home/jakecoltman/anaconda3/lib/python3.5/site-packages/Theano-0.7.0-py3.5.egg/theano/gof/opt.py\", line 196, in apply\n",
      "    sub_prof = optimizer.optimize(fgraph)\n",
      "  File \"/home/jakecoltman/anaconda3/lib/python3.5/site-packages/Theano-0.7.0-py3.5.egg/theano/gof/opt.py\", line 82, in optimize\n",
      "    ret = self.apply(fgraph, *args, **kwargs)\n",
      "  File \"/home/jakecoltman/anaconda3/lib/python3.5/site-packages/Theano-0.7.0-py3.5.egg/theano/tensor/opt.py\", line 5499, in apply\n",
      "    new_outputs = self.optimizer(node)\n",
      "  File \"/home/jakecoltman/anaconda3/lib/python3.5/site-packages/Theano-0.7.0-py3.5.egg/theano/tensor/opt.py\", line 5446, in local_fuse\n",
      "    ret = local_fuse(n)\n",
      "  File \"/home/jakecoltman/anaconda3/lib/python3.5/site-packages/Theano-0.7.0-py3.5.egg/theano/tensor/opt.py\", line 5434, in local_fuse\n",
      "    n = OP(C)(*inputs).owner\n",
      "  File \"/home/jakecoltman/anaconda3/lib/python3.5/site-packages/Theano-0.7.0-py3.5.egg/theano/tensor/elemwise.py\", line 496, in __init__\n",
      "    scalar_op.nout)\n",
      "ValueError: Cannot construct a ufunc with more than 32 operands (requested number were: inputs = 36 and outputs = 1)\n",
      "\n",
      "ERROR:theano.gof.opt:Traceback (most recent call last):\n",
      "  File \"/home/jakecoltman/anaconda3/lib/python3.5/site-packages/Theano-0.7.0-py3.5.egg/theano/gof/opt.py\", line 196, in apply\n",
      "    sub_prof = optimizer.optimize(fgraph)\n",
      "  File \"/home/jakecoltman/anaconda3/lib/python3.5/site-packages/Theano-0.7.0-py3.5.egg/theano/gof/opt.py\", line 82, in optimize\n",
      "    ret = self.apply(fgraph, *args, **kwargs)\n",
      "  File \"/home/jakecoltman/anaconda3/lib/python3.5/site-packages/Theano-0.7.0-py3.5.egg/theano/tensor/opt.py\", line 5499, in apply\n",
      "    new_outputs = self.optimizer(node)\n",
      "  File \"/home/jakecoltman/anaconda3/lib/python3.5/site-packages/Theano-0.7.0-py3.5.egg/theano/tensor/opt.py\", line 5446, in local_fuse\n",
      "    ret = local_fuse(n)\n",
      "  File \"/home/jakecoltman/anaconda3/lib/python3.5/site-packages/Theano-0.7.0-py3.5.egg/theano/tensor/opt.py\", line 5434, in local_fuse\n",
      "    n = OP(C)(*inputs).owner\n",
      "  File \"/home/jakecoltman/anaconda3/lib/python3.5/site-packages/Theano-0.7.0-py3.5.egg/theano/tensor/elemwise.py\", line 496, in __init__\n",
      "    scalar_op.nout)\n",
      "ValueError: Cannot construct a ufunc with more than 32 operands (requested number were: inputs = 36 and outputs = 1)\n",
      "\n"
     ]
    },
    {
     "name": "stdout",
     "output_type": "stream",
     "text": [
      "Assigned NUTS to lambda0_log\n",
      "Assigned NUTS to sigma_interval\n",
      "Assigned NUTS to mu_beta\n",
      "Assigned NUTS to beta\n",
      " [-----------------100%-----------------] 4000 of 4000 complete in 41.3 sec"
     ]
    }
   ],
   "source": [
    "with model:\n",
    "    step = pm.Metropolis()\n",
    "    trace_ = pm.sample(n_samples)"
   ]
  },
  {
   "cell_type": "code",
   "execution_count": 69,
   "metadata": {
    "collapsed": true
   },
   "outputs": [],
   "source": [
    "trace = trace_[burn::thin]"
   ]
  },
  {
   "cell_type": "code",
   "execution_count": 57,
   "metadata": {
    "collapsed": false
   },
   "outputs": [
    {
     "data": {
      "text/plain": [
       "array([ 0.,  0.,  0.,  0.,  0.,  0.,  0.,  0.,  0.,  0.])"
      ]
     },
     "execution_count": 57,
     "metadata": {},
     "output_type": "execute_result"
    }
   ],
   "source": [
    "trace['beta']"
   ]
  },
  {
   "cell_type": "code",
   "execution_count": 70,
   "metadata": {
    "collapsed": false
   },
   "outputs": [
    {
     "data": {
      "text/plain": [
       "array([[<matplotlib.axes._subplots.AxesSubplot object at 0xa276568c>,\n",
       "        <matplotlib.axes._subplots.AxesSubplot object at 0xa275cb4c>]], dtype=object)"
      ]
     },
     "execution_count": 70,
     "metadata": {},
     "output_type": "execute_result"
    },
    {
     "data": {
      "image/png": "[encoded data removed]",
      "text/plain": [
       "<matplotlib.figure.Figure at 0xa66cd38c>"
      ]
     },
     "metadata": {},
     "output_type": "display_data"
    }
   ],
   "source": [
    "pm.traceplot(trace, vars = ['beta'])"
   ]
  },
  {
   "cell_type": "code",
   "execution_count": null,
   "metadata": {
    "collapsed": true
   },
   "outputs": [],
   "source": []
  }
 ],
 "metadata": {
  "kernelspec": {
   "display_name": "Python 3",
   "language": "python",
   "name": "python3"
  },
  "language_info": {
   "codemirror_mode": {
    "name": "ipython",
    "version": 3
   },
   "file_extension": ".py",
   "mimetype": "text/x-python",
   "name": "python",
   "nbconvert_exporter": "python",
   "pygments_lexer": "ipython3",
   "version": "3.5.1"
  }
 },
 "nbformat": 4,
 "nbformat_minor": 0
}
