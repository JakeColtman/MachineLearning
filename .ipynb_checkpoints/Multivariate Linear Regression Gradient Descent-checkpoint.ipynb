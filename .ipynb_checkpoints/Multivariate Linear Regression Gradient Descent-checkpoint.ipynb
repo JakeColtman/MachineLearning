{
 "cells": [
  {
   "cell_type": "markdown",
   "metadata": {},
   "source": [
    "Previously we have looked at single variable linear regression and found the omtimum using gradient descent.  The extension to multivariate regression requires us to change the syntax to that of matrices otherwise the calculations will become too complex to write out and won't generalise well.\n",
    "\n",
    "To do this I will use the numpy library.\n",
    "\n",
    "The equation for sum of squared errors now becomes\n",
    "\n",
    "$$ Error(\\beta) = (Y - X\\beta)'(Y - X\\beta)$$ \n",
    "\n",
    "$$ \\frac{\\delta Error(\\beta)}{\\delta\\beta} = \\frac{\\delta}{\\delta\\beta} (Y'Y - 2X'Y +\\beta'X'X\\beta)$$\n",
    "\n",
    "Aside from this change the rest follows through pretty easily.  As before we have \n",
    "self.beta:= self.beta - change * self.learningRate\n",
    "The only difference is that in this case the values are arrays instead of single values and the minus and multiplication are element wise"
   ]
  },
  {
   "cell_type": "code",
   "execution_count": 137,
   "metadata": {
    "collapsed": true
   },
   "outputs": [],
   "source": [
    "import numpy as np\n",
    "import matplotlib.pyplot as plt\n",
    "import math\n",
    "%matplotlib inline  "
   ]
  },
  {
   "cell_type": "code",
   "execution_count": 2,
   "metadata": {
    "collapsed": true
   },
   "outputs": [],
   "source": [
    "from sklearn.datasets.samples_generator import make_regression"
   ]
  },
  {
   "cell_type": "code",
   "execution_count": 156,
   "metadata": {
    "collapsed": false
   },
   "outputs": [],
   "source": [
    "x, y = make_regression(n_samples=10, n_features=2, n_informative=1, random_state=0, noise=0) "
   ]
  },
  {
   "cell_type": "code",
   "execution_count": 157,
   "metadata": {
    "collapsed": false
   },
   "outputs": [
    {
     "data": {
      "text/plain": [
       "<matplotlib.collections.PathCollection at 0x96b8828>"
      ]
     },
     "execution_count": 157,
     "metadata": {},
     "output_type": "execute_result"
    },
    {
     "data": {
      "image/png": "[encoded data removed]",
      "text/plain": [
       "<matplotlib.figure.Figure at 0x95f80b8>"
      ]
     },
     "metadata": {},
     "output_type": "display_data"
    }
   ],
   "source": [
    "f, (ax1, ax2) = plt.subplots(1, 2, sharey=False)\n",
    "ax1.scatter(x[:,0],y)\n",
    "ax2.scatter(x[:,1],y)"
   ]
  },
  {
   "cell_type": "code",
   "execution_count": 132,
   "metadata": {
    "collapsed": false
   },
   "outputs": [],
   "source": [
    "def predict_y(x, beta):\n",
    "    y_hat = np.dot(x, beta)\n",
    "    \n",
    "def gradient_of_errors(x, y, beta):\n",
    "    return 2 * np.dot(np.dot(x.transpose(), x), beta) - 2 * np.dot(x.transpose(), y) \n",
    "\n",
    "def sum_of_squared_errors(y, y_hat):\n",
    "    [i ^ 2 for i in (y_hat - y)]"
   ]
  },
  {
   "cell_type": "code",
   "execution_count": 142,
   "metadata": {
    "collapsed": false
   },
   "outputs": [],
   "source": [
    "class MultiVariateGradientAscentLinearRegression:\n",
    "    def __init__(self,x, y, learningRate = 0.01):\n",
    "        self.x, self.y = x, y\n",
    "        self.beta = np.random.random(x.shape[1])\n",
    "        self.learningRate = learningRate        \n",
    "        \n",
    "    def next_b(self):\n",
    "        change = gradient_of_errors(self.x, self.y, self.beta)\n",
    "        return self.beta - change * self.learningRate\n",
    "    \n",
    "    def learn(self):\n",
    "        values = []\n",
    "        iterations = 0\n",
    "        while True:\n",
    "            next_b = self.next_b()\n",
    "            values.append(self.beta)\n",
    "            if iterations > 100:\n",
    "                break\n",
    "            self.beta = next_b\n",
    "            iterations +=1 \n",
    "        return values"
   ]
  },
  {
   "cell_type": "code",
   "execution_count": 145,
   "metadata": {
    "collapsed": false
   },
   "outputs": [
    {
     "data": {
      "text/plain": [
       "[array([ 0.02639359,  0.50783207]),\n",
       " array([ 0.23277722,  3.7148905 ]),\n",
       " array([ 0.3515937 ,  6.17487738]),\n",
       " array([ 0.41061907,  8.0624236 ]),\n",
       " array([ 0.42977156,  9.51122769]),\n",
       " array([  0.42320512,  10.62367075]),\n",
       " array([  0.40086485,  11.47816901]),\n",
       " array([  0.36963954,  12.13479705]),\n",
       " array([  0.33421298,  12.63958915]),\n",
       " array([  0.29769043,  13.02782977]),\n",
       " array([  0.26205781,  13.32657124]),\n",
       " array([  0.22851659,  13.55656042]),\n",
       " array([  0.19772675,  13.73371329]),\n",
       " array([  0.16998174,  13.87024386]),\n",
       " array([  0.14533352,  13.97552846]),\n",
       " array([  0.12368107,  14.05676764]),\n",
       " array([  0.10483218,  14.11949328]),\n",
       " array([  0.08854603,  14.16795696]),\n",
       " array([  0.0745618 ,  14.20542777]),\n",
       " array([  0.06261745,  14.23442047]),\n",
       " array([  0.05246145,  14.25687048]),\n",
       " array([  0.0438597 ,  14.27426813]),\n",
       " array([  0.03659903,  14.28776164]),\n",
       " array([  0.03048859,  14.29823611]),\n",
       " array([  0.02535961,  14.30637428]),\n",
       " array([  0.02106446,  14.31270308]),\n",
       " array([  0.017475  ,  14.31762948]),\n",
       " array([  0.01448083,  14.32146799]),\n",
       " array([  1.19873630e-02,   1.43244619e+01]),\n",
       " array([  9.91397161e-03,   1.43267994e+01]),\n",
       " array([  8.19220571e-03,   1.43286264e+01]),\n",
       " array([  6.76417717e-03,   1.43300559e+01]),\n",
       " array([  5.58108480e-03,   1.43311756e+01]),\n",
       " array([  4.60190393e-03,   1.43320537e+01]),\n",
       " array([  3.79223316e-03,   1.43327431e+01]),\n",
       " array([  3.12328889e-03,   1.43332849e+01]),\n",
       " array([  2.57103544e-03,   1.43337112e+01]),\n",
       " array([  2.11543730e-03,   1.43340472e+01]),\n",
       " array([  1.73981993e-03,   1.43343121e+01]),\n",
       " array([  1.43032579e-03,   1.43345213e+01]),\n",
       " array([  1.17545334e-03,   1.43346868e+01]),\n",
       " array([  9.65667676e-04,   1.43348177e+01]),\n",
       " array([  7.93072645e-04,   1.43349215e+01]),\n",
       " array([  6.51135561e-04,   1.43350038e+01]),\n",
       " array([  5.34456537e-04,   1.43350693e+01]),\n",
       " array([  4.38575655e-04,   1.43351213e+01]),\n",
       " array([  3.59812071e-04,   1.43351627e+01]),\n",
       " array([  2.95129981e-04,   1.43351957e+01]),\n",
       " array([  2.42027139e-04,   1.43352221e+01]),\n",
       " array([  1.98442260e-04,   1.43352431e+01]),\n",
       " array([  1.62678205e-04,   1.43352599e+01]),\n",
       " array([  1.33338330e-04,   1.43352734e+01]),\n",
       " array([  1.09273789e-04,   1.43352842e+01]),\n",
       " array([  8.95399588e-05,   1.43352929e+01]),\n",
       " array([  7.33604352e-05,   1.43352998e+01]),\n",
       " array([  6.00972964e-05,   1.43353054e+01]),\n",
       " array([  4.92265749e-05,   1.43353099e+01]),\n",
       " array([  4.03180311e-05,   1.43353135e+01]),\n",
       " array([  3.30184847e-05,   1.43353164e+01]),\n",
       " array([  2.70380885e-05,   1.43353188e+01]),\n",
       " array([  2.21390276e-05,   1.43353207e+01]),\n",
       " array([  1.81262224e-05,   1.43353222e+01]),\n",
       " array([  1.48396821e-05,   1.43353234e+01]),\n",
       " array([  1.21482179e-05,   1.43353245e+01]),\n",
       " array([  9.94427754e-06,   1.43353253e+01]),\n",
       " array([  8.13970107e-06,   1.43353259e+01]),\n",
       " array([  6.66223524e-06,   1.43353264e+01]),\n",
       " array([  5.45267200e-06,   1.43353269e+01]),\n",
       " array([  4.46249959e-06,   1.43353272e+01]),\n",
       " array([  3.65197509e-06,   1.43353275e+01]),\n",
       " array([  2.98854314e-06,   1.43353277e+01]),\n",
       " array([  2.44553886e-06,   1.43353279e+01]),\n",
       " array([  2.00112424e-06,   1.43353281e+01]),\n",
       " array([  1.63741602e-06,   1.43353282e+01]),\n",
       " array([  1.33977075e-06,   1.43353283e+01]),\n",
       " array([  1.09619884e-06,   1.43353284e+01]),\n",
       " array([  8.96884298e-07,   1.43353284e+01]),\n",
       " array([  7.33791261e-07,   1.43353285e+01]),\n",
       " array([  6.00341574e-07,   1.43353285e+01]),\n",
       " array([  4.91150692e-07,   1.43353286e+01]),\n",
       " array([  4.01811351e-07,   1.43353286e+01]),\n",
       " array([  3.28716375e-07,   1.43353286e+01]),\n",
       " array([  2.68913578e-07,   1.43353287e+01]),\n",
       " array([  2.19986939e-07,   1.43353287e+01]),\n",
       " array([  1.79959312e-07,   1.43353287e+01]),\n",
       " array([  1.47212762e-07,   1.43353287e+01]),\n",
       " array([  1.20423357e-07,   1.43353287e+01]),\n",
       " array([  9.85077789e-08,   1.43353287e+01]),\n",
       " array([  8.05796202e-08,   1.43353287e+01]),\n",
       " array([  6.59136163e-08,   1.43353287e+01]),\n",
       " array([  5.39163665e-08,   1.43353287e+01]),\n",
       " array([  4.41023717e-08,   1.43353287e+01]),\n",
       " array([  3.60744238e-08,   1.43353287e+01]),\n",
       " array([  2.95075566e-08,   1.43353287e+01]),\n",
       " array([  2.41359125e-08,   1.43353287e+01]),\n",
       " array([  1.97419957e-08,   1.43353287e+01]),\n",
       " array([  1.61478775e-08,   1.43353287e+01]),\n",
       " array([  1.32080012e-08,   1.43353287e+01]),\n",
       " array([  1.08032941e-08,   1.43353287e+01]),\n",
       " array([  8.83635002e-09,   1.43353287e+01]),\n",
       " array([  7.22748832e-09,   1.43353287e+01]),\n",
       " array([  5.91152875e-09,   1.43353287e+01])]"
      ]
     },
     "execution_count": 145,
     "metadata": {},
     "output_type": "execute_result"
    }
   ],
   "source": [
    "MultiVariateGradientAscentLinearRegression(x, y).learn()"
   ]
  },
  {
   "cell_type": "markdown",
   "metadata": {},
   "source": []
  },
  {
   "cell_type": "code",
   "execution_count": null,
   "metadata": {
    "collapsed": true
   },
   "outputs": [],
   "source": []
  }
 ],
 "metadata": {
  "kernelspec": {
   "display_name": "Python 3",
   "language": "python",
   "name": "python3"
  },
  "language_info": {
   "codemirror_mode": {
    "name": "ipython",
    "version": 3
   },
   "file_extension": ".py",
   "mimetype": "text/x-python",
   "name": "python",
   "nbconvert_exporter": "python",
   "pygments_lexer": "ipython3",
   "version": "3.4.3"
  }
 },
 "nbformat": 4,
 "nbformat_minor": 0
}
