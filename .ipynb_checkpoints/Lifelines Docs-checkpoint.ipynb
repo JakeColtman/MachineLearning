{
 "cells": [
  {
   "cell_type": "code",
   "execution_count": 33,
   "metadata": {
    "collapsed": false
   },
   "outputs": [
    {
     "data": {
      "text/plain": [
       "'lifelines.readthedocs.org'"
      ]
     },
     "execution_count": 33,
     "metadata": {},
     "output_type": "execute_result"
    }
   ],
   "source": [
    "'''lifelines.readthedocs.org'''"
   ]
  },
  {
   "cell_type": "code",
   "execution_count": 9,
   "metadata": {
    "collapsed": true
   },
   "outputs": [],
   "source": [
    "%matplotlib inline\n",
    "from lifelines.datasets import load_waltons"
   ]
  },
  {
   "cell_type": "code",
   "execution_count": 2,
   "metadata": {
    "collapsed": true
   },
   "outputs": [],
   "source": [
    "df = load_waltons()"
   ]
  },
  {
   "cell_type": "code",
   "execution_count": 3,
   "metadata": {
    "collapsed": false
   },
   "outputs": [
    {
     "data": {
      "text/html": [
       "<div>\n",
       "<table border=\"1\" class=\"dataframe\">\n",
       "  <thead>\n",
       "    <tr style=\"text-align: right;\">\n",
       "      <th></th>\n",
       "      <th>T</th>\n",
       "      <th>E</th>\n",
       "      <th>group</th>\n",
       "    </tr>\n",
       "  </thead>\n",
       "  <tbody>\n",
       "    <tr>\n",
       "      <th>0</th>\n",
       "      <td>6</td>\n",
       "      <td>1</td>\n",
       "      <td>miR-137</td>\n",
       "    </tr>\n",
       "    <tr>\n",
       "      <th>1</th>\n",
       "      <td>13</td>\n",
       "      <td>1</td>\n",
       "      <td>miR-137</td>\n",
       "    </tr>\n",
       "    <tr>\n",
       "      <th>2</th>\n",
       "      <td>13</td>\n",
       "      <td>1</td>\n",
       "      <td>miR-137</td>\n",
       "    </tr>\n",
       "    <tr>\n",
       "      <th>3</th>\n",
       "      <td>13</td>\n",
       "      <td>1</td>\n",
       "      <td>miR-137</td>\n",
       "    </tr>\n",
       "    <tr>\n",
       "      <th>4</th>\n",
       "      <td>19</td>\n",
       "      <td>1</td>\n",
       "      <td>miR-137</td>\n",
       "    </tr>\n",
       "  </tbody>\n",
       "</table>\n",
       "</div>"
      ],
      "text/plain": [
       "    T  E    group\n",
       "0   6  1  miR-137\n",
       "1  13  1  miR-137\n",
       "2  13  1  miR-137\n",
       "3  13  1  miR-137\n",
       "4  19  1  miR-137"
      ]
     },
     "execution_count": 3,
     "metadata": {},
     "output_type": "execute_result"
    }
   ],
   "source": [
    "df.head()"
   ]
  },
  {
   "cell_type": "code",
   "execution_count": 6,
   "metadata": {
    "collapsed": false
   },
   "outputs": [
    {
     "data": {
      "text/plain": [
       "<lifelines.KaplanMeierFitter: fitted with 163 observations, 7 censored>"
      ]
     },
     "execution_count": 6,
     "metadata": {},
     "output_type": "execute_result"
    }
   ],
   "source": [
    "from lifelines import KaplanMeierFitter \n",
    "kmf = KaplanMeierFitter()\n",
    "kmf.fit(df['T'], event_observed = df['E'])"
   ]
  },
  {
   "cell_type": "code",
   "execution_count": 10,
   "metadata": {
    "collapsed": false
   },
   "outputs": [
    {
     "data": {
      "text/plain": [
       "<matplotlib.axes._subplots.AxesSubplot at 0xa9eec82c>"
      ]
     },
     "execution_count": 10,
     "metadata": {},
     "output_type": "execute_result"
    },
    {
     "data": {
      "image/png": "[encoded data removed]",
      "text/plain": [
       "<matplotlib.figure.Figure at 0xa9ef3bac>"
      ]
     },
     "metadata": {},
     "output_type": "display_data"
    }
   ],
   "source": [
    "kmf.plot()"
   ]
  },
  {
   "cell_type": "code",
   "execution_count": 15,
   "metadata": {
    "collapsed": true
   },
   "outputs": [],
   "source": [
    "groups = df[\"group\"]\n",
    "index = groups == \"miR-137\""
   ]
  },
  {
   "cell_type": "code",
   "execution_count": 16,
   "metadata": {
    "collapsed": false
   },
   "outputs": [
    {
     "data": {
      "text/plain": [
       "0       True\n",
       "1       True\n",
       "2       True\n",
       "3       True\n",
       "4       True\n",
       "5       True\n",
       "6       True\n",
       "7       True\n",
       "8       True\n",
       "9       True\n",
       "10      True\n",
       "11      True\n",
       "12      True\n",
       "13      True\n",
       "14      True\n",
       "15      True\n",
       "16      True\n",
       "17      True\n",
       "18      True\n",
       "19      True\n",
       "20      True\n",
       "21      True\n",
       "22      True\n",
       "23      True\n",
       "24      True\n",
       "25      True\n",
       "26      True\n",
       "27      True\n",
       "28      True\n",
       "29      True\n",
       "       ...  \n",
       "133    False\n",
       "134    False\n",
       "135    False\n",
       "136    False\n",
       "137    False\n",
       "138    False\n",
       "139    False\n",
       "140    False\n",
       "141    False\n",
       "142    False\n",
       "143    False\n",
       "144    False\n",
       "145    False\n",
       "146    False\n",
       "147    False\n",
       "148    False\n",
       "149    False\n",
       "150    False\n",
       "151    False\n",
       "152    False\n",
       "153    False\n",
       "154    False\n",
       "155    False\n",
       "156    False\n",
       "157    False\n",
       "158    False\n",
       "159    False\n",
       "160    False\n",
       "161    False\n",
       "162    False\n",
       "Name: group, dtype: bool"
      ]
     },
     "execution_count": 16,
     "metadata": {},
     "output_type": "execute_result"
    }
   ],
   "source": [
    "index"
   ]
  },
  {
   "cell_type": "code",
   "execution_count": 17,
   "metadata": {
    "collapsed": false
   },
   "outputs": [
    {
     "data": {
      "text/plain": [
       "<matplotlib.axes._subplots.AxesSubplot at 0xa9e9332c>"
      ]
     },
     "execution_count": 17,
     "metadata": {},
     "output_type": "execute_result"
    },
    {
     "data": {
      "image/png": "[encoded data removed]",
      "text/plain": [
       "<matplotlib.figure.Figure at 0xa9e945ac>"
      ]
     },
     "metadata": {},
     "output_type": "display_data"
    }
   ],
   "source": [
    "kmf.fit(df[\"T\"][~index], df[\"E\"][~index], label = \"control\")\n",
    "ax = kmf.plot()\n",
    "kmf.fit(df[\"T\"][index], df[\"E\"][index], label = \"test\")\n",
    "kmf.plot(ax = ax)"
   ]
  },
  {
   "cell_type": "code",
   "execution_count": 18,
   "metadata": {
    "collapsed": true
   },
   "outputs": [],
   "source": [
    "from lifelines import CoxPHFitter"
   ]
  },
  {
   "cell_type": "code",
   "execution_count": 20,
   "metadata": {
    "collapsed": false
   },
   "outputs": [
    {
     "data": {
      "text/html": [
       "<div>\n",
       "<table border=\"1\" class=\"dataframe\">\n",
       "  <thead>\n",
       "    <tr style=\"text-align: right;\">\n",
       "      <th></th>\n",
       "      <th>var1</th>\n",
       "      <th>var2</th>\n",
       "      <th>var3</th>\n",
       "      <th>T</th>\n",
       "      <th>E</th>\n",
       "    </tr>\n",
       "  </thead>\n",
       "  <tbody>\n",
       "    <tr>\n",
       "      <th>0</th>\n",
       "      <td>0.595170</td>\n",
       "      <td>1.143472</td>\n",
       "      <td>1.571079</td>\n",
       "      <td>14.785479</td>\n",
       "      <td>1</td>\n",
       "    </tr>\n",
       "    <tr>\n",
       "      <th>1</th>\n",
       "      <td>0.209325</td>\n",
       "      <td>0.184677</td>\n",
       "      <td>0.356980</td>\n",
       "      <td>7.336734</td>\n",
       "      <td>1</td>\n",
       "    </tr>\n",
       "    <tr>\n",
       "      <th>2</th>\n",
       "      <td>0.693919</td>\n",
       "      <td>0.071893</td>\n",
       "      <td>0.557960</td>\n",
       "      <td>5.271527</td>\n",
       "      <td>1</td>\n",
       "    </tr>\n",
       "    <tr>\n",
       "      <th>3</th>\n",
       "      <td>0.443804</td>\n",
       "      <td>1.364646</td>\n",
       "      <td>0.374221</td>\n",
       "      <td>11.684168</td>\n",
       "      <td>1</td>\n",
       "    </tr>\n",
       "    <tr>\n",
       "      <th>4</th>\n",
       "      <td>1.613324</td>\n",
       "      <td>0.125566</td>\n",
       "      <td>1.921325</td>\n",
       "      <td>7.637764</td>\n",
       "      <td>1</td>\n",
       "    </tr>\n",
       "  </tbody>\n",
       "</table>\n",
       "</div>"
      ],
      "text/plain": [
       "       var1      var2      var3          T  E\n",
       "0  0.595170  1.143472  1.571079  14.785479  1\n",
       "1  0.209325  0.184677  0.356980   7.336734  1\n",
       "2  0.693919  0.071893  0.557960   5.271527  1\n",
       "3  0.443804  1.364646  0.374221  11.684168  1\n",
       "4  1.613324  0.125566  1.921325   7.637764  1"
      ]
     },
     "execution_count": 20,
     "metadata": {},
     "output_type": "execute_result"
    }
   ],
   "source": [
    "from lifelines.datasets import load_regression_dataset\n",
    "regression_dataset = load_regression_dataset()\n",
    "\n",
    "regression_dataset.head()\n"
   ]
  },
  {
   "cell_type": "code",
   "execution_count": 21,
   "metadata": {
    "collapsed": false
   },
   "outputs": [
    {
     "name": "stderr",
     "output_type": "stream",
     "text": [
      "/home/jakecoltman/anaconda3/lib/python3.5/site-packages/lifelines/fitters/coxph_fitter.py:285: FutureWarning: sort(columns=....) is deprecated, use sort_values(by=.....)\n",
      "  df.sort(duration_col, inplace=True)\n"
     ]
    },
    {
     "data": {
      "text/plain": [
       "<lifelines.CoxPHFitter: fitted with 200 observations, 11 censored>"
      ]
     },
     "execution_count": 21,
     "metadata": {},
     "output_type": "execute_result"
    }
   ],
   "source": [
    "cf = CoxPHFitter()\n",
    "cf.fit(regression_dataset, 'T', event_col = 'E')"
   ]
  },
  {
   "cell_type": "code",
   "execution_count": 23,
   "metadata": {
    "collapsed": false
   },
   "outputs": [
    {
     "name": "stdout",
     "output_type": "stream",
     "text": [
      "n=200, number of events=189\n",
      "\n",
      "          coef  exp(coef)  se(coef)         z         p  lower 0.95  upper 0.95    \n",
      "var1 2.084e-01  1.232e+00 6.991e-02 2.981e+00 2.876e-03   7.134e-02   3.455e-01  **\n",
      "var2 4.601e-02  1.047e+00 7.507e-02 6.129e-01 5.400e-01  -1.012e-01   1.932e-01    \n",
      "var3 2.110e-01  1.235e+00 7.314e-02 2.885e+00 3.913e-03   6.764e-02   3.544e-01  **\n",
      "---\n",
      "Signif. codes:  0 '***' 0.001 '**' 0.01 '*' 0.05 '.' 0.1 ' ' 1 \n",
      "\n",
      "Concordance = 0.580\n"
     ]
    }
   ],
   "source": [
    "cf.print_summary()"
   ]
  },
  {
   "cell_type": "code",
   "execution_count": 26,
   "metadata": {
    "collapsed": false
   },
   "outputs": [],
   "source": [
    "from lifelines.plotting import plot_lifetimes\n",
    "from numpy.random import uniform, exponential\n",
    "import numpy as np\n",
    "N = 25\n",
    "current_time = 10\n",
    "actual_lifetimes = np.array([ [exponential(12), exponential(2)][uniform()<0.5] for i in range(N) ])"
   ]
  },
  {
   "cell_type": "code",
   "execution_count": 27,
   "metadata": {
    "collapsed": false
   },
   "outputs": [
    {
     "data": {
      "text/plain": [
       "array([  1.16142342,   0.4790155 ,   1.31090148,  37.06374192,\n",
       "        22.19463719,   2.68333223,   4.06315728,   3.43179213,\n",
       "        23.68602073,   1.72335068,  10.9426403 ,   0.51789161,\n",
       "         1.47532664,  18.52243486,   1.0254639 ,   7.41586876,\n",
       "         3.31066004,  56.9574817 ,   9.13282522,   0.43397634,\n",
       "         6.40379054,   2.35288149,   3.06097357,   2.40818373,   0.47603332])"
      ]
     },
     "execution_count": 27,
     "metadata": {},
     "output_type": "execute_result"
    }
   ],
   "source": [
    "actual_lifetimes"
   ]
  },
  {
   "cell_type": "code",
   "execution_count": 28,
   "metadata": {
    "collapsed": true
   },
   "outputs": [],
   "source": [
    "observed_lifetimes = np.minimum(actual_lifetimes, current_time)"
   ]
  },
  {
   "cell_type": "code",
   "execution_count": 29,
   "metadata": {
    "collapsed": false
   },
   "outputs": [
    {
     "data": {
      "text/plain": [
       "array([  1.16142342,   0.4790155 ,   1.31090148,  10.        ,\n",
       "        10.        ,   2.68333223,   4.06315728,   3.43179213,\n",
       "        10.        ,   1.72335068,  10.        ,   0.51789161,\n",
       "         1.47532664,  10.        ,   1.0254639 ,   7.41586876,\n",
       "         3.31066004,  10.        ,   9.13282522,   0.43397634,\n",
       "         6.40379054,   2.35288149,   3.06097357,   2.40818373,   0.47603332])"
      ]
     },
     "execution_count": 29,
     "metadata": {},
     "output_type": "execute_result"
    }
   ],
   "source": [
    "observed_lifetimes"
   ]
  },
  {
   "cell_type": "code",
   "execution_count": 30,
   "metadata": {
    "collapsed": true
   },
   "outputs": [],
   "source": [
    "observed = actual_lifetimes < current_time"
   ]
  },
  {
   "cell_type": "code",
   "execution_count": 31,
   "metadata": {
    "collapsed": false
   },
   "outputs": [
    {
     "data": {
      "text/plain": [
       "array([ True,  True,  True, False, False,  True,  True,  True, False,\n",
       "        True, False,  True,  True, False,  True,  True,  True, False,\n",
       "        True,  True,  True,  True,  True,  True,  True], dtype=bool)"
      ]
     },
     "execution_count": 31,
     "metadata": {},
     "output_type": "execute_result"
    }
   ],
   "source": [
    "observed"
   ]
  },
  {
   "cell_type": "code",
   "execution_count": 32,
   "metadata": {
    "collapsed": false
   },
   "outputs": [
    {
     "data": {
      "image/png": "[encoded data removed]",
      "text/plain": [
       "<matplotlib.figure.Figure at 0xa9b77d6c>"
      ]
     },
     "metadata": {},
     "output_type": "display_data"
    }
   ],
   "source": [
    "plot_lifetimes(observed_lifetimes, event_observed = observed)"
   ]
  },
  {
   "cell_type": "markdown",
   "metadata": {},
   "source": [
    "Kaplan-Meier Estimate\n",
    "\n",
    "$$\\hat{S}(t) = \\prod\\frac{n_i - d_i}{n_i}$$"
   ]
  },
  {
   "cell_type": "markdown",
   "metadata": {},
   "source": [
    "n_i => number of individuals at risk just before period t\n",
    "d_i => number of deaths at period t"
   ]
  },
  {
   "cell_type": "markdown",
   "metadata": {},
   "source": [
    "Estimating cumulative hazard:\n",
    "\n",
    "$$\\Lambda(t) = \\int_{0}^{t} \\lambda(t) dz$$"
   ]
  },
  {
   "cell_type": "markdown",
   "metadata": {},
   "source": [
    "$$\\hat{\\Lambda}(t) = \\sum\\frac{d_i}{n_i} $$"
   ]
  },
  {
   "cell_type": "markdown",
   "metadata": {},
   "source": [
    "Differential of the cumulative hazard function is an estimate of the hazard function.  Need to do some kernel smoothing"
   ]
  },
  {
   "cell_type": "markdown",
   "metadata": {},
   "source": [
    "Survival regression: \n",
    "\n",
    "Two different methods: \n",
    "COx's proportional hazard model - l(t) = b_0(t) expt(b1 ... bnxn)\n",
    "Aalen's additive model l(t) = b0(t) = b1(t)x1 ... + bn(t)xt\n",
    "\n"
   ]
  },
  {
   "cell_type": "code",
   "execution_count": null,
   "metadata": {
    "collapsed": true
   },
   "outputs": [],
   "source": []
  }
 ],
 "metadata": {
  "kernelspec": {
   "display_name": "Python 3",
   "language": "python",
   "name": "python3"
  },
  "language_info": {
   "codemirror_mode": {
    "name": "ipython",
    "version": 3
   },
   "file_extension": ".py",
   "mimetype": "text/x-python",
   "name": "python",
   "nbconvert_exporter": "python",
   "pygments_lexer": "ipython3",
   "version": "3.5.1"
  }
 },
 "nbformat": 4,
 "nbformat_minor": 0
}
