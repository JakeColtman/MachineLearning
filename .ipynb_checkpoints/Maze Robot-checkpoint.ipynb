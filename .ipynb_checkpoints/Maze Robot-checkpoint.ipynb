{
 "cells": [
  {
   "cell_type": "code",
   "execution_count": 21,
   "metadata": {
    "collapsed": true
   },
   "outputs": [],
   "source": [
    "%matplotlib inline\n",
    "from matplotlib import pyplot as plt\n",
    "import numpy as np\n",
    "import random"
   ]
  },
  {
   "cell_type": "code",
   "execution_count": 16,
   "metadata": {
    "collapsed": false
   },
   "outputs": [],
   "source": [
    "def generate_maze(size):\n",
    "    base = np.zeros((size,size))\n",
    "    base[:,0] = 1\n",
    "    base[0,:] = 1\n",
    "    base[-1,:] = 1\n",
    "    base[:,-1] = 1\n",
    "    return base"
   ]
  },
  {
   "cell_type": "code",
   "execution_count": 153,
   "metadata": {
    "collapsed": true
   },
   "outputs": [],
   "source": [
    "def choose_random_square_from_maze(maze):\n",
    "    x, y = random.randint(1, maze.shape[0]-2),random.randint(1, maze.shape[0]-2)\n",
    "    return [x,y]"
   ]
  },
  {
   "cell_type": "code",
   "execution_count": 47,
   "metadata": {
    "collapsed": false
   },
   "outputs": [],
   "source": [
    "def add_random_exit(maze):\n",
    "    x, y = choose_random_square_from_maze(maze)\n",
    "    maze[x, y] = 2\n",
    "    return maze"
   ]
  },
  {
   "cell_type": "code",
   "execution_count": 50,
   "metadata": {
    "collapsed": false
   },
   "outputs": [],
   "source": [
    "def add_robot(maze):\n",
    "    x, y = choose_random_square_from_maze(maze)\n",
    "\n",
    "    maze[x, y] = 3\n",
    "    return maze"
   ]
  },
  {
   "cell_type": "code",
   "execution_count": 54,
   "metadata": {
    "collapsed": true
   },
   "outputs": [],
   "source": [
    "def setup(mazeSize):\n",
    "    maze = generate_maze(mazeSize)\n",
    "    maze = add_random_exit(maze)\n",
    "    maze = add_robot(maze)\n",
    "    return maze"
   ]
  },
  {
   "cell_type": "code",
   "execution_count": 110,
   "metadata": {
    "collapsed": false
   },
   "outputs": [],
   "source": [
    "def display_maze(maze):\n",
    "    fig = plt.figure()\n",
    "    ax = fig.add_subplot(111)\n",
    "    im = ax.pcolor(maze)\n",
    "    plt.show(block=False)\n",
    "    for i in range(10):\n",
    "        sleep(1)\n",
    "        plt.close()\n",
    "        fig = plt.figure()\n",
    "        ax = fig.add_subplot(111)\n",
    "        im = ax.pcolor(setup(3))\n",
    "        plt.show(block=False)"
   ]
  },
  {
   "cell_type": "code",
   "execution_count": 113,
   "metadata": {
    "collapsed": true
   },
   "outputs": [],
   "source": [
    "directions = [\"left\", \"right\", \"up\", \"down\"]"
   ]
  },
  {
   "cell_type": "code",
   "execution_count": 224,
   "metadata": {
    "collapsed": false
   },
   "outputs": [],
   "source": [
    "class Maze:\n",
    "    \n",
    "    def __init__(self,size):\n",
    "        self.maze = generate_maze(size)\n",
    "        self.exitPos = choose_random_square_from_maze(self.maze)\n",
    "        self.robotPos = self.choose_spot_for_robot()\n",
    "        self.maze[self.exitPos[0], self.exitPos[1]] = 2\n",
    "        self.maze[self.robotPos[0], self.robotPos[1]] = 3\n",
    "        \n",
    "    def choose_spot_for_robot(self):\n",
    "        x, y = choose_random_square_from_maze(self.maze)\n",
    "        while self.maze[x,y] != 0:\n",
    "            x, y = choose_random_square_from_maze(self.maze)\n",
    "        return [x,y]\n",
    "    \n",
    "    def point_in_direction(self,direction):\n",
    "        if direction == \"down\":\n",
    "            return [self.robotPos[0] - 1 , self.robotPos[1]]\n",
    "        if direction == \"up\":\n",
    "            return [self.robotPos[0] + 1 , self.robotPos[1]]\n",
    "        if direction == \"right\":\n",
    "            return [self.robotPos[0], self.robotPos[1] + 1]\n",
    "        if direction == \"left\":\n",
    "            return [self.robotPos[0], self.robotPos[1] - 1]\n",
    "        \n",
    "    def is_valid_move(self,direction):\n",
    "        if direction not in directions: return False\n",
    "        try:\n",
    "            newX, newY = self.point_in_direction(direction)\n",
    "            return self.maze[newX, newY] != 1\n",
    "        except(Exception,e):\n",
    "            print(e)\n",
    "            return False\n",
    "        \n",
    "    def move(self, direction):\n",
    "        if not self.is_valid_move(direction): return False\n",
    "        self.maze[self.robotPos[0], self.robotPos[1]] = 0\n",
    "        self.robotPos = self.point_in_direction(direction)\n",
    "        self.maze[self.robotPos[0], self.robotPos[1]] = 3\n",
    "        return True\n",
    "        \n",
    "    def is_solved(self):\n",
    "        return self.robotPos == self.exitPos\n",
    "            \n",
    "    def display(self):\n",
    "        fig = plt.figure()\n",
    "        ax = fig.add_subplot(111)\n",
    "        im = ax.pcolor(self.maze)\n",
    "        plt.show(block=False)"
   ]
  },
  {
   "cell_type": "code",
   "execution_count": 208,
   "metadata": {
    "collapsed": false
   },
   "outputs": [
    {
     "data": {
      "image/png": "[encoded data removed]",
      "text/plain": [
       "<matplotlib.figure.Figure at 0xadf5232c>"
      ]
     },
     "metadata": {},
     "output_type": "display_data"
    }
   ],
   "source": [
    "maze = Maze(10)\n",
    "maze.display()"
   ]
  },
  {
   "cell_type": "code",
   "execution_count": 209,
   "metadata": {
    "collapsed": false
   },
   "outputs": [
    {
     "name": "stdout",
     "output_type": "stream",
     "text": [
      "[7, 5]\n",
      "[8, 5]\n"
     ]
    },
    {
     "data": {
      "text/plain": [
       "True"
      ]
     },
     "execution_count": 209,
     "metadata": {},
     "output_type": "execute_result"
    }
   ],
   "source": [
    "maze.is_solved()\n",
    "maze.move(\"up\")"
   ]
  },
  {
   "cell_type": "code",
   "execution_count": 222,
   "metadata": {
    "collapsed": false
   },
   "outputs": [],
   "source": [
    "def basic_solver(maze):\n",
    "    counter = 0\n",
    "    isSolved = maze.is_solved()\n",
    "    while not isSolved:\n",
    "        randomDirection = random.choice(directions)\n",
    "        maze.move(randomDirection)\n",
    "        isSolved = maze.is_solved()\n",
    "        counter += 1\n",
    "        \n",
    "    maze.display()\n",
    "    return counter"
   ]
  },
  {
   "cell_type": "code",
   "execution_count": 226,
   "metadata": {
    "collapsed": false
   },
   "outputs": [
    {
     "data": {
      "image/png": "[encoded data removed]",
      "text/plain": [
       "<matplotlib.figure.Figure at 0xadb2a40c>"
      ]
     },
     "metadata": {},
     "output_type": "display_data"
    },
    {
     "data": {
      "image/png": "[encoded data removed]",
      "text/plain": [
       "<matplotlib.figure.Figure at 0xade38c4c>"
      ]
     },
     "metadata": {},
     "output_type": "display_data"
    },
    {
     "data": {
      "text/plain": [
       "104244"
      ]
     },
     "execution_count": 226,
     "metadata": {},
     "output_type": "execute_result"
    }
   ],
   "source": [
    "maze = Maze(100)\n",
    "maze.display()\n",
    "basic_solver(maze)"
   ]
  },
  {
   "cell_type": "code",
   "execution_count": null,
   "metadata": {
    "collapsed": true
   },
   "outputs": [],
   "source": []
  }
 ],
 "metadata": {
  "kernelspec": {
   "display_name": "Python 3",
   "language": "python",
   "name": "python3"
  },
  "language_info": {
   "codemirror_mode": {
    "name": "ipython",
    "version": 3
   },
   "file_extension": ".py",
   "mimetype": "text/x-python",
   "name": "python",
   "nbconvert_exporter": "python",
   "pygments_lexer": "ipython3",
   "version": "3.5.1"
  }
 },
 "nbformat": 4,
 "nbformat_minor": 0
}
