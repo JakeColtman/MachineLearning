{
 "cells": [
  {
   "cell_type": "markdown",
   "metadata": {},
   "source": [
    "In linear regression we are trying to approximate a system using a linear combination of inputs.  Given a set of inputs and outputs, we want to produce something like:\n",
    "\n",
    "$$y(x) = a + bx$$\n",
    "\n",
    "To evaluate the model that we use, we need a function which provides an indication of how far off our estimate was from the true y values.  The most common of these is squared error:\n",
    "\n",
    "$$Error(a, b) = {E}[(y - y(x))^2]$$\n",
    "\n",
    "It is possible to solve this directly, but it is computationally expensive.  In fact it can often be faster to approximate the answer through gradient descent as below"
   ]
  },
  {
   "cell_type": "code",
   "execution_count": 6,
   "metadata": {
    "collapsed": true
   },
   "outputs": [],
   "source": [
    "import math\n",
    "\n",
    "def squaredErrors(y, yhat):\n",
    "    if len(y) != len(yhat): raise \"Length of y and yhat has to be the same\"\n",
    "        \n",
    "    sqrErrors = [ math.pow(i[0] - i[1], 2) for i in zip(y, yhat) ]\n",
    "    return sum(sqrErrors)"
   ]
  },
  {
   "cell_type": "code",
   "execution_count": 21,
   "metadata": {
    "collapsed": false
   },
   "outputs": [],
   "source": [
    "class LinearModel:\n",
    "    def __init__(self,x, y, errorFunction = squaredErrors):\n",
    "        self.x = x\n",
    "        self.a = 0\n",
    "        self.y = y\n",
    "        self.errorFunction = squaredErrors\n",
    "    def generate_yhat(self,b):\n",
    "        return [self.a + b * xPoint for xPoint in self.x]\n",
    "    def generate_errors(self,b):\n",
    "        return self.errorFunction(self.y, self.generate_yhat(b))"
   ]
  },
  {
   "cell_type": "markdown",
   "metadata": {},
   "source": [
    "In the simplest linear model, we fix a at 0 so that the model is constrained to go through the origin at (0,0).  This means there is just one variable that's free to change, namely b.  We can find the optimum b by taking the current b and looking just  to either side of it and seeing if that increases of decreases the error.  We reach an optimum when both sides of b lead to an increase in error.  Note the linear nature of the model ensures that we'll reach a single global optimum "
   ]
  },
  {
   "cell_type": "code",
   "execution_count": 32,
   "metadata": {
    "collapsed": false
   },
   "outputs": [
    {
     "data": {
      "text/plain": [
       "0.9999999999999999"
      ]
     },
     "execution_count": 32,
     "metadata": {},
     "output_type": "execute_result"
    }
   ],
   "source": [
    "def simpleGradientDescent(model, b = 0, increment = 0.1):\n",
    "    \n",
    "    def direction_of_change(current, up, down):\n",
    "        if current < up and current < down:\n",
    "            return 0\n",
    "        elif current > up and current < down:\n",
    "            return 1\n",
    "        else: return -1\n",
    "        \n",
    "    iteration = b\n",
    "    finished = False\n",
    "    \n",
    "    while not finished:\n",
    "        current,incrDown,incrUp = model.generate_errors(iteration), model.generate_errors(iteration - increment), model.generate_errors(iteration + increment)\n",
    "        direction = direction_of_change(current, incrUp, incrDown)\n",
    "        if direction == 0: finished = True\n",
    "        else:\n",
    "            iteration = iteration + (increment * direction)\n",
    "    return iteration\n",
    "    \n",
    "x = [1,2,3,4,5,6]\n",
    "y = [1,2,3,4,5,6]\n",
    "model = LinearModel(x, y)\n",
    "simpleGradientDescent(model)"
   ]
  },
  {
   "cell_type": "markdown",
   "metadata": {},
   "source": [
    "As we can see this converges to the correct value relatively quickly.  This is overly simple in a number of regards, and we will now work on improving those simplicities.  The first is the speed of convergence to the optimum.  Initially, the speed is much too slow.  We are too cautious in moving such a small distance.  Later on we end up moving too quickly.  As we get closer to the true value we would like to make smaller changes to find the exact optimum.  This problem was masked in the case above because the numbers were chosen to work out well but consider the case below:"
   ]
  },
  {
   "cell_type": "code",
   "execution_count": 34,
   "metadata": {
    "collapsed": false
   },
   "outputs": [
    {
     "data": {
      "text/plain": [
       "1.0499999999999998"
      ]
     },
     "execution_count": 34,
     "metadata": {},
     "output_type": "execute_result"
    }
   ],
   "source": [
    "x = [1,2,3,4,5,6]\n",
    "y = [1,2,3,4,5,6]\n",
    "model = LinearModel(x, y)\n",
    "simpleGradientDescent(model, b = 0.05)"
   ]
  },
  {
   "cell_type": "markdown",
   "metadata": {},
   "source": [
    "Using an increment of fixed size, we can end up half the distance of the incremet from the true value.  To solve this, we need to make the increment a function of the how far from the optimum we are.  A simple way to do this is to use the gradient of the error function as a proxy for how quickly we can move.  If the gradient is steep we can move quickly as we are far from the max, if the gradient is shallow we need to move more slowly because we are close to the centre (here we're using the fact that the error is normally distributed)"
   ]
  },
  {
   "cell_type": "markdown",
   "metadata": {},
   "source": [
    "$$Error(b) = \\frac{1}{N} \\sum\\limits_{n=1}^n (y^n - bx^n)$$"
   ]
  },
  {
   "cell_type": "markdown",
   "metadata": {},
   "source": [
    "$$\\frac{dError(b)}{db} = -2 \\frac{1}{N}\\sum\\limits_{n=1}^n (y^n - bx^n)x^n$$"
   ]
  },
  {
   "cell_type": "markdown",
   "metadata": {},
   "source": [
    "The first thing we need is a fucntion to calculate the gradient of the error given y, x and b"
   ]
  },
  {
   "cell_type": "code",
   "execution_count": 72,
   "metadata": {
    "collapsed": true
   },
   "outputs": [],
   "source": [
    "def gradientError(y, x, b):\n",
    "    insideSummation = [  (i[1] - b * i[0]) * i[0] for i in zip(x,y) ]\n",
    "    summation = sum(insideSummation)\n",
    "    return (summation * (-2)) / len(y)"
   ]
  },
  {
   "cell_type": "code",
   "execution_count": 73,
   "metadata": {
    "collapsed": false
   },
   "outputs": [
    {
     "data": {
      "text/plain": [
       "30.333333333333332"
      ]
     },
     "execution_count": 73,
     "metadata": {},
     "output_type": "execute_result"
    }
   ],
   "source": [
    "gradientError(x, y, 2)"
   ]
  },
  {
   "cell_type": "code",
   "execution_count": 91,
   "metadata": {
    "collapsed": true
   },
   "outputs": [],
   "source": [
    "class GradientAscentLinearRegression:\n",
    "    def __init__(self,x, y, errorFunction = squaredErrors, learningRate = 0.01):\n",
    "        self.x, self.y = x, y\n",
    "        self.errorFunction = squaredErrors\n",
    "        self.b = 1.5\n",
    "        self.learningRate = learningRate\n",
    "    def next_b(self):\n",
    "        change = gradientError(self.y, self.x, self.b)\n",
    "        return self.b - change * self.learningRate\n",
    "    def learn(self):\n",
    "        values = []\n",
    "        iterations = 0\n",
    "        while True:\n",
    "            next_b = self.next_b()\n",
    "            values.append(self.b)\n",
    "            if math.fabs((next_b - self.b))  < 0.00001 or iterations > 100:\n",
    "                break\n",
    "            self.b = next_b\n",
    "            iterations +=1 \n",
    "        return values\n",
    "            "
   ]
  },
  {
   "cell_type": "code",
   "execution_count": 90,
   "metadata": {
    "collapsed": false
   },
   "outputs": [
    {
     "name": "stdout",
     "output_type": "stream",
     "text": [
      "-0.15166666666666662\n",
      "-0.1056611111111112\n",
      "-0.07361057407407401\n",
      "-0.051282033271604854\n",
      "-0.035726483179218116\n",
      "-0.024889449948188647\n",
      "-0.01733965013057137\n",
      "-0.012079956257631475\n",
      "-0.00841570285948312\n",
      "-0.00586293965877327\n",
      "-0.004084514628945435\n",
      "-0.0028455451914985996\n",
      "-0.0019823964834106977\n",
      "-0.001381069550109526\n",
      "-0.0009621451199095521\n",
      "-0.0006702944335370553\n",
      "-0.00046697178869758993\n",
      "-0.0003253236794591441\n",
      "-0.00022664216335654963\n",
      "-0.00015789404047183986\n",
      "-0.00010999951486190263\n",
      "-7.66329953538758e-05\n",
      "-5.338765342988161e-05\n",
      "-3.719339855612347e-05\n",
      "-2.5911400994171885e-05\n",
      "-1.8051609359304166e-05\n",
      "-1.2575954520199772e-05\n",
      "-8.761248315725112e-06\n",
      "Done\n"
     ]
    }
   ],
   "source": [
    "regression = GradientAscentLinearRegression(x, y)\n",
    "learning = regression.learn()\n",
    "print(\"Done\")"
   ]
  },
  {
   "cell_type": "markdown",
   "metadata": {},
   "source": [
    "To ensure that the algorithm converges, it is important to choose an appropriate learning rate.  If we adjust the value for b too quickly, we are likely to pendulum back and forth past the maximum without ever settling.  This can be seen in the graphs below"
   ]
  },
  {
   "cell_type": "code",
   "execution_count": 92,
   "metadata": {
    "collapsed": true
   },
   "outputs": [],
   "source": [
    "%matplotlib inline\n",
    "import numpy as np\n",
    "import matplotlib.pyplot as plt"
   ]
  },
  {
   "cell_type": "code",
   "execution_count": 107,
   "metadata": {
    "collapsed": false
   },
   "outputs": [],
   "source": [
    "slowRegression = GradientAscentLinearRegression(x, y, learningRate = 0.01)\n",
    "slowLearning = slowRegression.learn()\n",
    "tooFastRegression = GradientAscentLinearRegression(x, y, learningRate = 0.09)\n",
    "tooFastLearning = tooFastRegression.learn()"
   ]
  },
  {
   "cell_type": "code",
   "execution_count": 98,
   "metadata": {
    "collapsed": false
   },
   "outputs": [
    {
     "name": "stdout",
     "output_type": "stream",
     "text": [
      "[1.5, 1.3483333333333334, 1.2426722222222222, 1.1690616481481482, 1.1177796148765433, 1.0820531316973252, 1.0571636817491366, 1.0398240316185652, 1.0277440753609337, 1.0193283725014506, 1.0134654328426773, 1.0093809182137319, 1.0065353730222333, 1.0045529765388226, 1.003171906988713, 1.0022097618688035, 1.0015394674352665, 1.0010724956465689, 1.0007471719671097, 1.0005205298037532, 1.0003626357632813, 1.0002526362484194, 1.0001760032530655, 1.0001226155996357, 1.0000854222010795, 1.0000595108000854, 1.000041459190726, 1.0000288832362059] [1.5, -13.666666666666666, 431.2222222222222, -12618.85185185185, 370183.32098765427, -10858680.415637858, 318521322.52537715, -9343292097.07773, 274069901544.61343, -8039383778611.66, 235821924172639.0, -6917443109064046.0, 2.029116645325454e+17, -5.952075492954665e+18, 1.7459421446000352e+20, -5.121430290826769e+21, 1.5022862186425189e+23, -4.4067062413513886e+24, 1.2926338307964075e+26, -3.791725903669462e+27, 1.1122395984097087e+29, -3.26256948866848e+30, 9.57020383342754e+31, -2.807259791138745e+33, 8.2346287206736515e+34, -2.4154910913976042e+36, 7.085440534766306e+37, -2.0783958901981168e+39, 6.096627944581142e+40, -1.788344197077135e+42, 5.245809644759595e+43, -1.5387708291294813e+45, 4.5137277654464787e+46, -1.3240268111976337e+48, 3.883811979513059e+49, -1.1392515139904973e+51, 3.341804441038791e+52, -9.802626360380453e+53, 2.8754370657115993e+55, -8.434615392754025e+56, 2.4741538485411807e+58, -7.257517955720798e+59, 2.1288719336781008e+61, -6.244691005455762e+62, 1.8317760282670235e+64, -5.373209682916602e+65, 1.5761415069888696e+67, -4.623348420500685e+68, 1.3561822033468678e+70, -3.9781344631508116e+71, 1.166919442524238e+73, -3.4229636980710976e+74, 1.0040693514341885e+76, -2.9452700975402864e+77, 8.63945895278484e+78, -2.5342412928168864e+80, 7.433774458929533e+81, -2.1805738412859964e+83, 6.396349934438923e+84, -1.8762626474354172e+86, 5.5037037658105565e+87, -1.6144197713044302e+89, 4.735631329159662e+90, -1.3891185232201675e+92, 4.074747668112492e+93, -1.1952593159796644e+95, 3.506093993540349e+96, -1.0284542381051691e+98, 3.0167990984418296e+99, -8.849277355429367e+100, 2.595788024259281e+102, -7.614311537827226e+103, 2.2335313844293197e+105, -6.55169206099267e+106, 1.9218296712245165e+108, -5.637367035591914e+109, 1.6536276637736283e+111, -4.85064114706931e+112, 1.4228547364736644e+114, -4.1737072269894156e+115, 1.2242874532502285e+117, -3.5912431962006702e+118, 1.0534313375521966e+120, -3.090065256819777e+121, 9.064191420004679e+122, -2.6588294832013725e+124, 7.799233150724025e+125, -2.2877750575457143e+127, 6.7108068354674284e+128, -1.9685033384037788e+130, 5.774276459317751e+131, -1.6937877613998737e+133, 4.9684441001062965e+134, -1.4574102693645137e+136, 4.2750701234692405e+137, -1.254020569550977e+139, 3.678460337349533e+140, -1.0790150322891963e+142, 3.165110761381643e+143, -9.28432490005282e+144, 2.723401970682161e+146, -7.988645780667673e+147]\n"
     ]
    }
   ],
   "source": [
    "print(slowLearning, tooFastLearning)"
   ]
  },
  {
   "cell_type": "code",
   "execution_count": 99,
   "metadata": {
    "collapsed": false
   },
   "outputs": [
    {
     "data": {
      "text/plain": [
       "<matplotlib.collections.PathCollection at 0x70da080>"
      ]
     },
     "execution_count": 99,
     "metadata": {},
     "output_type": "execute_result"
    },
    {
     "data": {
      "image/png": "[encoded data removed]",
      "text/plain": [
       "<matplotlib.figure.Figure at 0x7060898>"
      ]
     },
     "metadata": {},
     "output_type": "display_data"
    }
   ],
   "source": [
    "plt.scatter(np.arange(0,len(slowLearning)), slowLearning)"
   ]
  },
  {
   "cell_type": "code",
   "execution_count": 108,
   "metadata": {
    "collapsed": false
   },
   "outputs": [
    {
     "data": {
      "text/plain": [
       "<matplotlib.collections.PathCollection at 0x7a04c50>"
      ]
     },
     "execution_count": 108,
     "metadata": {},
     "output_type": "execute_result"
    },
    {
     "data": {
      "image/png": "[encoded data removed]",
      "text/plain": [
       "<matplotlib.figure.Figure at 0x79a8630>"
      ]
     },
     "metadata": {},
     "output_type": "display_data"
    }
   ],
   "source": [
    " plt.scatter(np.arange(0,len(tooFastLearning)), tooFastLearning)"
   ]
  },
  {
   "cell_type": "code",
   "execution_count": null,
   "metadata": {
    "collapsed": true
   },
   "outputs": [],
   "source": []
  }
 ],
 "metadata": {
  "kernelspec": {
   "display_name": "Python 3",
   "language": "python",
   "name": "python3"
  },
  "language_info": {
   "codemirror_mode": {
    "name": "ipython",
    "version": 3
   },
   "file_extension": ".py",
   "mimetype": "text/x-python",
   "name": "python",
   "nbconvert_exporter": "python",
   "pygments_lexer": "ipython3",
   "version": "3.4.3"
  }
 },
 "nbformat": 4,
 "nbformat_minor": 0
}
