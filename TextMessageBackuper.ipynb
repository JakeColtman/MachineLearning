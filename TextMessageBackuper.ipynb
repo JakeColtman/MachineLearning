{
 "cells": [
  {
   "cell_type": "code",
   "execution_count": 82,
   "metadata": {
    "collapsed": true
   },
   "outputs": [],
   "source": [
    "import requests\n",
    "import os\n",
    "from datetime import datetime"
   ]
  },
  {
   "cell_type": "code",
   "execution_count": 58,
   "metadata": {
    "collapsed": false
   },
   "outputs": [],
   "source": [
    "baseURL = r\"http://192.168.0.6:9427/u1fJnmSh/{0}\"\n",
    "os.chdir(r\"C:\\Files\\Texts\")"
   ]
  },
  {
   "cell_type": "code",
   "execution_count": 59,
   "metadata": {
    "collapsed": true
   },
   "outputs": [],
   "source": [
    "data = requests.get(baseURL.format(\"texts\"))"
   ]
  },
  {
   "cell_type": "code",
   "execution_count": 71,
   "metadata": {
    "collapsed": false
   },
   "outputs": [],
   "source": [
    "def clean_message(message):\n",
    "    return \",\".join([message[\"_id\"],message[\"date\"],message[\"body\"]])"
   ]
  },
  {
   "cell_type": "code",
   "execution_count": 72,
   "metadata": {
    "collapsed": false
   },
   "outputs": [
    {
     "data": {
      "text/plain": [
       "'30989,1454780139531,Python\\n'"
      ]
     },
     "execution_count": 72,
     "metadata": {},
     "output_type": "execute_result"
    }
   ],
   "source": [
    "clean_message(data[\"data\"][\"texts\"][0])"
   ]
  },
  {
   "cell_type": "code",
   "execution_count": 105,
   "metadata": {
    "collapsed": false
   },
   "outputs": [],
   "source": [
    "def parse_messages(data):\n",
    "    textPerPhoneNumber = {}\n",
    "    for message in data[\"data\"][\"texts\"]:\n",
    "        fromNumber = message[\"address\"]\n",
    "        if fromNumber not in textPerPhoneNumber: textPerPhoneNumber[fromNumber] = []\n",
    "        textPerPhoneNumber[fromNumber].append(clean_message(message))\n",
    "    return textPerPhoneNumber"
   ]
  },
  {
   "cell_type": "code",
   "execution_count": 106,
   "metadata": {
    "collapsed": false
   },
   "outputs": [],
   "source": [
    "def saveOut(textPerPhoneNumber):\n",
    "\n",
    "    for number in textPerPhoneNumber:\n",
    "        filename = number + \"-\" + datetime.now().strftime('%Y-%m-%d %H%M%S') + \".csv\"\n",
    "        try:\n",
    "            with open(filename, \"wb\") as fileOut:\n",
    "                    fileOut.write(\"\\n\".join(textPerPhoneNumber[number]).encode('utf-8'))\n",
    "        except:\n",
    "            print(filename)"
   ]
  },
  {
   "cell_type": "code",
   "execution_count": 107,
   "metadata": {
    "collapsed": false
   },
   "outputs": [
    {
     "name": "stdout",
     "output_type": "stream",
     "text": [
      "NatWest\r",
      "-2016-02-06 183021.csv\n"
     ]
    }
   ],
   "source": [
    "saveOut(parse_messages(data))"
   ]
  },
  {
   "cell_type": "code",
   "execution_count": null,
   "metadata": {
    "collapsed": true
   },
   "outputs": [],
   "source": []
  }
 ],
 "metadata": {
  "kernelspec": {
   "display_name": "Python 3",
   "language": "python",
   "name": "python3"
  },
  "language_info": {
   "codemirror_mode": {
    "name": "ipython",
    "version": 3
   },
   "file_extension": ".py",
   "mimetype": "text/x-python",
   "name": "python",
   "nbconvert_exporter": "python",
   "pygments_lexer": "ipython3",
   "version": "3.5.1"
  }
 },
 "nbformat": 4,
 "nbformat_minor": 0
}
