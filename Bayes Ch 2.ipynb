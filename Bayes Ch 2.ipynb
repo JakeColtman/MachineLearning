{
 "cells": [
  {
   "cell_type": "code",
   "execution_count": 1,
   "metadata": {
    "collapsed": true
   },
   "outputs": [],
   "source": [
    "import numpy as np\n",
    "import pymc as pm"
   ]
  },
  {
   "cell_type": "code",
   "execution_count": 2,
   "metadata": {
    "collapsed": true
   },
   "outputs": [],
   "source": [
    "param = pm.Exponential(\"poisson_param\", 1)\n",
    "incrParam = param + 1"
   ]
  },
  {
   "cell_type": "code",
   "execution_count": 3,
   "metadata": {
    "collapsed": false
   },
   "outputs": [
    {
     "data": {
      "text/plain": [
       "{'a': <pymc.distributions.new_dist_class.<locals>.new_class 'poisson_param' at 0x00000009F93E4668>,\n",
       " 'b': 1}"
      ]
     },
     "execution_count": 3,
     "metadata": {},
     "output_type": "execute_result"
    }
   ],
   "source": [
    "incrParam.parents"
   ]
  },
  {
   "cell_type": "code",
   "execution_count": 4,
   "metadata": {
    "collapsed": false
   },
   "outputs": [
    {
     "data": {
      "text/plain": [
       "1.5246951686776484"
      ]
     },
     "execution_count": 4,
     "metadata": {},
     "output_type": "execute_result"
    }
   ],
   "source": [
    "incrParam.value"
   ]
  },
  {
   "cell_type": "code",
   "execution_count": 9,
   "metadata": {
    "collapsed": false
   },
   "outputs": [
    {
     "data": {
      "text/plain": [
       "array(0.2435270339224634)"
      ]
     },
     "execution_count": 9,
     "metadata": {},
     "output_type": "execute_result"
    }
   ],
   "source": [
    "param.random()"
   ]
  },
  {
   "cell_type": "code",
   "execution_count": 10,
   "metadata": {
    "collapsed": true
   },
   "outputs": [],
   "source": [
    "some_variable = pm.DiscreteUniform(\"discrete_uni_var\", 0, 4)"
   ]
  },
  {
   "cell_type": "code",
   "execution_count": 15,
   "metadata": {
    "collapsed": false
   },
   "outputs": [
    {
     "data": {
      "text/plain": [
       "array(2)"
      ]
     },
     "execution_count": 15,
     "metadata": {},
     "output_type": "execute_result"
    }
   ],
   "source": [
    "some_variable.random()"
   ]
  },
  {
   "cell_type": "code",
   "execution_count": 17,
   "metadata": {
    "collapsed": true
   },
   "outputs": [],
   "source": [
    "%matplotlib inline\n",
    "from IPython.core.pylabtools import figsize\n",
    "from matplotlib import pyplot as plt\n",
    "figsize(12.5, 4)"
   ]
  },
  {
   "cell_type": "code",
   "execution_count": 19,
   "metadata": {
    "collapsed": false
   },
   "outputs": [],
   "source": [
    "lambda_ = pm.Exponential(\"lambda\", 1)"
   ]
  },
  {
   "cell_type": "code",
   "execution_count": 22,
   "metadata": {
    "collapsed": false
   },
   "outputs": [
    {
     "data": {
      "text/plain": [
       "(array([ 0.95008584,  1.07758654,  1.05702191,  0.97065047,  0.93363414,\n",
       "         0.90484366,  0.92540829,  0.92952122,  0.96653755,  0.91718244,\n",
       "         0.82669807,  0.86782733,  0.92952122,  0.97887633,  0.9583117 ,\n",
       "         0.8143593 ,  0.80202052,  0.8143593 ,  0.85960148,  0.82258515,\n",
       "         0.76911711,  0.81024637,  0.71153615,  0.73210078,  0.72387493,\n",
       "         0.71153615,  0.73621371,  0.67863275,  0.62105179,  0.719762  ,\n",
       "         0.72798786,  0.74032663,  0.62105179,  0.71564908,  0.67863275,\n",
       "         0.64161641,  0.67040689,  0.56758375,  0.52645449,  0.56347083,\n",
       "         0.7033103 ,  0.55113205,  0.56347083,  0.59226131,  0.5429062 ,\n",
       "         0.50177694,  0.59637423,  0.52234157,  0.52234157,  0.55113205,\n",
       "         0.5758096 ,  0.58403545,  0.53056742,  0.54701912,  0.44830891,\n",
       "         0.48943816,  0.5758096 ,  0.50177694,  0.56758375,  0.47709939,\n",
       "         0.47298646,  0.49355109,  0.55524497,  0.52234157,  0.49355109,\n",
       "         0.46476061,  0.45242183,  0.42363135,  0.39484087,  0.4318572 ,\n",
       "         0.44830891,  0.4318572 ,  0.51822864,  0.39072794,  0.54701912,\n",
       "         0.38661502,  0.33314698,  0.35782454,  0.41951843,  0.40306672,\n",
       "         0.35782454,  0.31258236,  0.32903406,  0.32080821,  0.39072794,\n",
       "         0.32492113,  0.29201773,  0.34137284,  0.2879048 ,  0.35371161,\n",
       "         0.26734017,  0.30846943,  0.33314698,  0.27967895,  0.29613065,\n",
       "         0.32903406,  0.28379188,  0.2879048 ,  0.32492113,  0.27556602,\n",
       "         0.32903406,  0.26734017,  0.27556602,  0.26322725,  0.2714531 ,\n",
       "         0.20564629,  0.29201773,  0.26322725,  0.2550014 ,  0.27967895,\n",
       "         0.19742044,  0.25911432,  0.20564629,  0.20564629,  0.21798506,\n",
       "         0.25911432,  0.23032384,  0.20975921,  0.20975921,  0.21387214,\n",
       "         0.23854969,  0.23443677,  0.18919458,  0.21387214,  0.23443677,\n",
       "         0.23854969,  0.22209799,  0.20975921,  0.2879048 ,  0.17274288,\n",
       "         0.19330751,  0.21798506,  0.18508166,  0.19742044,  0.29613065,\n",
       "         0.18508166,  0.16451703,  0.20975921,  0.19330751,  0.14806533,\n",
       "         0.13572655,  0.18508166,  0.14806533,  0.20975921,  0.16862996,\n",
       "         0.11516192,  0.19330751,  0.13161362,  0.22209799,  0.16451703,\n",
       "         0.16451703,  0.20564629,  0.1439524 ,  0.16451703,  0.14806533,\n",
       "         0.17274288,  0.18508166,  0.1439524 ,  0.15629118,  0.18919458,\n",
       "         0.15217825,  0.11104899,  0.13572655,  0.15217825,  0.1275007 ,\n",
       "         0.09048437,  0.14806533,  0.09048437,  0.11927485,  0.11927485,\n",
       "         0.11104899,  0.19742044,  0.1604041 ,  0.11927485,  0.13983948,\n",
       "         0.10693607,  0.11927485,  0.10693607,  0.10693607,  0.11927485,\n",
       "         0.1604041 ,  0.08225851,  0.08637144,  0.11104899,  0.09871022,\n",
       "         0.11927485,  0.05346803,  0.1275007 ,  0.09871022,  0.14806533,\n",
       "         0.09459729,  0.10282314,  0.11104899,  0.09459729,  0.09871022,\n",
       "         0.11927485,  0.09459729,  0.10282314,  0.06580681,  0.10282314,\n",
       "         0.09871022,  0.08637144,  0.10282314,  0.11927485,  0.06580681,\n",
       "         0.06991974,  0.09048437,  0.08225851,  0.06580681,  0.06991974,\n",
       "         0.08225851,  0.06991974,  0.08225851,  0.07814559,  0.05758096,\n",
       "         0.04524218,  0.07814559,  0.06991974,  0.08225851,  0.03290341,\n",
       "         0.04524218,  0.06580681,  0.06169389,  0.05346803,  0.08225851,\n",
       "         0.10282314,  0.05758096,  0.07814559,  0.06169389,  0.06580681,\n",
       "         0.07403266,  0.05758096,  0.04935511,  0.06991974,  0.06991974,\n",
       "         0.05346803,  0.04112926,  0.03701633,  0.03290341,  0.03290341,\n",
       "         0.06169389,  0.05758096,  0.04112926,  0.06169389,  0.04112926,\n",
       "         0.04524218,  0.04524218,  0.04524218,  0.02056463,  0.04112926,\n",
       "         0.06991974,  0.05346803,  0.02879048,  0.04112926,  0.04112926,\n",
       "         0.06169389,  0.06169389,  0.04935511,  0.06169389,  0.05346803,\n",
       "         0.02467755,  0.04112926,  0.04524218,  0.04524218,  0.04935511,\n",
       "         0.04112926,  0.02879048,  0.04524218,  0.03290341,  0.00411293,\n",
       "         0.02467755,  0.03701633,  0.01233878,  0.04524218,  0.02879048,\n",
       "         0.04524218,  0.03701633,  0.03701633,  0.03290341,  0.03701633,\n",
       "         0.03290341,  0.02879048,  0.02879048,  0.0164517 ,  0.01233878,\n",
       "         0.02056463,  0.02467755,  0.03701633,  0.03701633,  0.02879048,\n",
       "         0.05346803,  0.02056463,  0.03701633,  0.02467755,  0.02879048,\n",
       "         0.02879048,  0.02879048,  0.02467755,  0.01233878,  0.01233878,\n",
       "         0.02467755,  0.03701633,  0.0164517 ,  0.02056463,  0.01233878,\n",
       "         0.02056463,  0.03701633,  0.04524218,  0.00411293,  0.02467755,\n",
       "         0.01233878,  0.02467755,  0.02467755,  0.01233878,  0.02056463,\n",
       "         0.01233878,  0.00822585,  0.01233878,  0.01233878,  0.02879048,\n",
       "         0.00822585,  0.04112926,  0.02056463,  0.01233878,  0.0164517 ,\n",
       "         0.02879048,  0.00822585,  0.0164517 ,  0.02879048,  0.02056463,\n",
       "         0.0164517 ,  0.02879048,  0.02879048,  0.0164517 ,  0.01233878,\n",
       "         0.0164517 ,  0.01233878,  0.0164517 ,  0.0164517 ,  0.00822585,\n",
       "         0.02879048,  0.01233878,  0.02056463,  0.0164517 ,  0.02056463,\n",
       "         0.02879048,  0.02879048,  0.0164517 ,  0.0164517 ,  0.00822585,\n",
       "         0.01233878,  0.0164517 ,  0.00411293,  0.0164517 ,  0.02879048,\n",
       "         0.        ,  0.0164517 ,  0.01233878,  0.00822585,  0.00822585,\n",
       "         0.00822585,  0.0164517 ,  0.0164517 ,  0.01233878,  0.01233878,\n",
       "         0.00411293,  0.00822585,  0.02056463,  0.00822585,  0.00822585,\n",
       "         0.00411293,  0.00822585,  0.00822585,  0.00822585,  0.00411293,\n",
       "         0.00822585,  0.00822585,  0.        ,  0.0164517 ,  0.00411293,\n",
       "         0.00822585,  0.00411293,  0.01233878,  0.01233878,  0.00411293,\n",
       "         0.00411293,  0.00411293,  0.02467755,  0.00822585,  0.00822585,\n",
       "         0.00822585,  0.00822585,  0.00411293,  0.00822585,  0.00411293,\n",
       "         0.01233878,  0.00822585,  0.0164517 ,  0.00822585,  0.        ,\n",
       "         0.00411293,  0.01233878,  0.00411293,  0.01233878,  0.00822585,\n",
       "         0.        ,  0.02056463,  0.02879048,  0.00411293,  0.02467755,\n",
       "         0.        ,  0.        ,  0.00411293,  0.00822585,  0.01233878,\n",
       "         0.00822585,  0.00411293,  0.00822585,  0.00822585,  0.00411293,\n",
       "         0.00822585,  0.00822585,  0.00411293,  0.00411293,  0.        ,\n",
       "         0.00822585,  0.        ,  0.00411293,  0.00822585,  0.00411293,\n",
       "         0.01233878,  0.00411293,  0.00411293,  0.00411293,  0.00411293,\n",
       "         0.00411293,  0.00411293,  0.00411293,  0.00411293,  0.00822585,\n",
       "         0.00822585,  0.        ,  0.00822585,  0.00411293,  0.        ,\n",
       "         0.00411293,  0.        ,  0.00411293,  0.00822585,  0.        ,\n",
       "         0.00411293,  0.        ,  0.01233878,  0.        ,  0.00411293,\n",
       "         0.00411293,  0.00822585,  0.00411293,  0.01233878,  0.00411293,\n",
       "         0.        ,  0.        ,  0.00411293,  0.00411293,  0.        ,\n",
       "         0.00411293,  0.00822585,  0.        ,  0.        ,  0.        ,\n",
       "         0.        ,  0.00411293,  0.00822585,  0.        ,  0.00822585,\n",
       "         0.        ,  0.        ,  0.00411293,  0.00411293,  0.00411293,\n",
       "         0.        ,  0.00411293,  0.        ,  0.        ,  0.00411293,\n",
       "         0.00411293,  0.        ,  0.        ,  0.00411293,  0.        ,\n",
       "         0.        ,  0.        ,  0.00411293,  0.00411293,  0.        ,\n",
       "         0.00411293,  0.00411293,  0.        ,  0.        ,  0.        ,\n",
       "         0.        ,  0.        ,  0.        ,  0.00411293,  0.        ,\n",
       "         0.        ,  0.00411293,  0.        ,  0.        ,  0.        ,\n",
       "         0.        ,  0.        ,  0.        ,  0.        ,  0.00411293,\n",
       "         0.00411293,  0.00411293,  0.        ,  0.00411293,  0.        ,\n",
       "         0.        ,  0.00822585,  0.        ,  0.00411293,  0.        ,\n",
       "         0.        ,  0.        ,  0.00411293,  0.        ,  0.        ,\n",
       "         0.        ,  0.        ,  0.        ,  0.        ,  0.00822585,\n",
       "         0.        ,  0.        ,  0.        ,  0.        ,  0.00411293,\n",
       "         0.00411293,  0.        ,  0.        ,  0.        ,  0.00411293,\n",
       "         0.        ,  0.00411293,  0.        ,  0.        ,  0.00411293,\n",
       "         0.        ,  0.        ,  0.        ,  0.        ,  0.00411293,\n",
       "         0.        ,  0.        ,  0.        ,  0.00411293,  0.        ,\n",
       "         0.        ,  0.        ,  0.00411293,  0.        ,  0.        ,\n",
       "         0.        ,  0.00411293,  0.        ,  0.        ,  0.        ,\n",
       "         0.00411293,  0.        ,  0.00411293,  0.        ,  0.        ,\n",
       "         0.        ,  0.        ,  0.00411293,  0.        ,  0.        ,\n",
       "         0.00411293,  0.00411293,  0.00411293,  0.        ,  0.        ,\n",
       "         0.        ,  0.        ,  0.00411293,  0.        ,  0.        ,\n",
       "         0.        ,  0.        ,  0.        ,  0.        ,  0.        ,\n",
       "         0.        ,  0.        ,  0.        ,  0.        ,  0.00411293,\n",
       "         0.        ,  0.        ,  0.        ,  0.        ,  0.        ,\n",
       "         0.        ,  0.        ,  0.        ,  0.        ,  0.        ,\n",
       "         0.        ,  0.        ,  0.00411293,  0.        ,  0.        ,\n",
       "         0.        ,  0.        ,  0.        ,  0.        ,  0.        ,\n",
       "         0.        ,  0.        ,  0.        ,  0.        ,  0.        ,\n",
       "         0.        ,  0.        ,  0.        ,  0.        ,  0.00411293,\n",
       "         0.        ,  0.        ,  0.        ,  0.        ,  0.        ,\n",
       "         0.        ,  0.        ,  0.        ,  0.        ,  0.        ,\n",
       "         0.        ,  0.        ,  0.        ,  0.        ,  0.        ,\n",
       "         0.        ,  0.        ,  0.        ,  0.        ,  0.00411293,\n",
       "         0.        ,  0.        ,  0.        ,  0.        ,  0.        ,\n",
       "         0.        ,  0.        ,  0.        ,  0.        ,  0.        ,\n",
       "         0.        ,  0.        ,  0.        ,  0.        ,  0.        ,\n",
       "         0.        ,  0.        ,  0.        ,  0.        ,  0.        ,\n",
       "         0.        ,  0.        ,  0.        ,  0.        ,  0.        ,\n",
       "         0.        ,  0.        ,  0.        ,  0.        ,  0.        ,\n",
       "         0.        ,  0.        ,  0.        ,  0.        ,  0.        ,\n",
       "         0.        ,  0.        ,  0.        ,  0.        ,  0.        ,\n",
       "         0.        ,  0.        ,  0.        ,  0.        ,  0.        ,\n",
       "         0.        ,  0.        ,  0.        ,  0.        ,  0.        ,\n",
       "         0.        ,  0.        ,  0.        ,  0.        ,  0.        ,\n",
       "         0.        ,  0.        ,  0.        ,  0.        ,  0.        ,\n",
       "         0.        ,  0.        ,  0.        ,  0.00411293,  0.        ,\n",
       "         0.        ,  0.        ,  0.        ,  0.        ,  0.        ,\n",
       "         0.        ,  0.        ,  0.00411293,  0.        ,  0.        ,\n",
       "         0.        ,  0.        ,  0.        ,  0.        ,  0.        ,\n",
       "         0.        ,  0.        ,  0.        ,  0.        ,  0.        ,\n",
       "         0.        ,  0.        ,  0.        ,  0.        ,  0.        ,\n",
       "         0.        ,  0.        ,  0.        ,  0.        ,  0.        ,\n",
       "         0.        ,  0.        ,  0.00411293,  0.        ,  0.        ,\n",
       "         0.        ,  0.        ,  0.        ,  0.        ,  0.        ,\n",
       "         0.        ,  0.        ,  0.        ,  0.        ,  0.        ,\n",
       "         0.        ,  0.        ,  0.        ,  0.        ,  0.        ,\n",
       "         0.        ,  0.        ,  0.        ,  0.        ,  0.        ,\n",
       "         0.        ,  0.        ,  0.        ,  0.        ,  0.        ,\n",
       "         0.        ,  0.        ,  0.        ,  0.        ,  0.        ,\n",
       "         0.        ,  0.        ,  0.        ,  0.        ,  0.        ,\n",
       "         0.        ,  0.        ,  0.        ,  0.        ,  0.        ,\n",
       "         0.        ,  0.        ,  0.        ,  0.        ,  0.        ,\n",
       "         0.        ,  0.        ,  0.        ,  0.        ,  0.        ,\n",
       "         0.        ,  0.        ,  0.        ,  0.        ,  0.        ,\n",
       "         0.        ,  0.        ,  0.        ,  0.        ,  0.        ,\n",
       "         0.        ,  0.        ,  0.        ,  0.        ,  0.        ,\n",
       "         0.        ,  0.        ,  0.        ,  0.        ,  0.        ,\n",
       "         0.        ,  0.        ,  0.        ,  0.        ,  0.        ,\n",
       "         0.        ,  0.        ,  0.        ,  0.        ,  0.        ,\n",
       "         0.        ,  0.        ,  0.        ,  0.        ,  0.        ,\n",
       "         0.        ,  0.        ,  0.        ,  0.        ,  0.        ,\n",
       "         0.        ,  0.        ,  0.        ,  0.        ,  0.        ,\n",
       "         0.        ,  0.        ,  0.        ,  0.        ,  0.        ,\n",
       "         0.        ,  0.        ,  0.        ,  0.        ,  0.        ,\n",
       "         0.        ,  0.        ,  0.        ,  0.        ,  0.        ,\n",
       "         0.        ,  0.        ,  0.        ,  0.        ,  0.        ,\n",
       "         0.        ,  0.        ,  0.        ,  0.        ,  0.        ,\n",
       "         0.        ,  0.        ,  0.        ,  0.        ,  0.        ,\n",
       "         0.        ,  0.        ,  0.        ,  0.        ,  0.        ,\n",
       "         0.        ,  0.        ,  0.        ,  0.        ,  0.        ,\n",
       "         0.        ,  0.        ,  0.        ,  0.        ,  0.        ,\n",
       "         0.        ,  0.        ,  0.        ,  0.        ,  0.        ,\n",
       "         0.        ,  0.        ,  0.        ,  0.        ,  0.        ,\n",
       "         0.        ,  0.        ,  0.        ,  0.        ,  0.        ,\n",
       "         0.        ,  0.        ,  0.        ,  0.        ,  0.        ,\n",
       "         0.        ,  0.        ,  0.        ,  0.        ,  0.        ,\n",
       "         0.        ,  0.        ,  0.        ,  0.        ,  0.        ,\n",
       "         0.        ,  0.        ,  0.        ,  0.        ,  0.        ,\n",
       "         0.        ,  0.        ,  0.        ,  0.        ,  0.        ,\n",
       "         0.        ,  0.        ,  0.        ,  0.        ,  0.        ,\n",
       "         0.        ,  0.        ,  0.        ,  0.        ,  0.        ,\n",
       "         0.        ,  0.        ,  0.        ,  0.        ,  0.        ,\n",
       "         0.        ,  0.        ,  0.        ,  0.        ,  0.        ,\n",
       "         0.        ,  0.        ,  0.        ,  0.        ,  0.        ,\n",
       "         0.        ,  0.        ,  0.        ,  0.        ,  0.        ,\n",
       "         0.        ,  0.        ,  0.        ,  0.        ,  0.        ,\n",
       "         0.        ,  0.        ,  0.        ,  0.        ,  0.        ,\n",
       "         0.        ,  0.        ,  0.        ,  0.        ,  0.        ,\n",
       "         0.        ,  0.        ,  0.        ,  0.        ,  0.        ,\n",
       "         0.        ,  0.        ,  0.        ,  0.        ,  0.        ,\n",
       "         0.        ,  0.        ,  0.        ,  0.        ,  0.        ,\n",
       "         0.        ,  0.        ,  0.        ,  0.        ,  0.        ,\n",
       "         0.        ,  0.        ,  0.        ,  0.        ,  0.00411293]),\n",
       " array([  1.12005683e-05,   1.21679968e-02,   2.43247930e-02, ...,\n",
       "          1.21324938e+01,   1.21446506e+01,   1.21568074e+01]),\n",
       " <a list of 1 Patch objects>)"
      ]
     },
     "execution_count": 22,
     "metadata": {},
     "output_type": "execute_result"
    },
    {
     "data": {
      "image/png": "[encoded data removed]",
      "text/plain": [
       "<matplotlib.figure.Figure at 0x9f9432c50>"
      ]
     },
     "metadata": {},
     "output_type": "display_data"
    }
   ],
   "source": [
    "samples = [lambda_.random() for i in range(20000)]\n",
    "plt.hist(samples, bins = 1000, normed = True, histtype='stepfilled')"
   ]
  },
  {
   "cell_type": "code",
   "execution_count": 23,
   "metadata": {
    "collapsed": false
   },
   "outputs": [
    {
     "name": "stdout",
     "output_type": "stream",
     "text": [
      "443\n"
     ]
    }
   ],
   "source": [
    "p_true_hidden = 0.45\n",
    "N = 1000\n",
    "\n",
    "occurences = pm.rbernoulli(p_true_hidden, N)\n",
    "print(occurences.sum())"
   ]
  },
  {
   "cell_type": "code",
   "execution_count": 26,
   "metadata": {
    "collapsed": false
   },
   "outputs": [
    {
     "data": {
      "text/plain": [
       "<Container object of 1000 artists>"
      ]
     },
     "execution_count": 26,
     "metadata": {},
     "output_type": "execute_result"
    },
    {
     "data": {
      "image/png": "[encoded data removed]",
      "text/plain": [
       "<matplotlib.figure.Figure at 0x9fa4a3eb8>"
      ]
     },
     "metadata": {},
     "output_type": "display_data"
    }
   ],
   "source": [
    "plt.bar(range(len(occurences)), occurences)"
   ]
  },
  {
   "cell_type": "code",
   "execution_count": 29,
   "metadata": {
    "collapsed": false
   },
   "outputs": [],
   "source": [
    "#Set prior\n",
    "p = pm.Uniform('p', lower = 0, upper = 1)\n",
    "\n",
    "observation = pm.Bernoulli(\"Obs\", p, value = occurences, observed = True)"
   ]
  },
  {
   "cell_type": "code",
   "execution_count": 30,
   "metadata": {
    "collapsed": true
   },
   "outputs": [],
   "source": [
    "mcmc = pm.MCMC([p,observation])"
   ]
  },
  {
   "cell_type": "code",
   "execution_count": 31,
   "metadata": {
    "collapsed": false
   },
   "outputs": [
    {
     "name": "stdout",
     "output_type": "stream",
     "text": [
      " [-----------------100%-----------------] 18000 of 18000 complete in 1.1 sec"
     ]
    }
   ],
   "source": [
    "mcmc.sample(18000, 1000)"
   ]
  },
  {
   "cell_type": "code",
   "execution_count": 32,
   "metadata": {
    "collapsed": false
   },
   "outputs": [
    {
     "data": {
      "text/plain": [
       "(array([    6.,    33.,    46.,   116.,   180.,   324.,   771.,   942.,\n",
       "         1210.,  1468.,  1499.,  1705.,  1852.,  1484.,  1688.,  1235.,\n",
       "          938.,   618.,   362.,   213.,   157.,    96.,    35.,    16.,\n",
       "            6.]),\n",
       " array([ 0.39229976,  0.39652718,  0.40075461,  0.40498204,  0.40920946,\n",
       "         0.41343689,  0.41766432,  0.42189175,  0.42611917,  0.4303466 ,\n",
       "         0.43457403,  0.43880146,  0.44302888,  0.44725631,  0.45148374,\n",
       "         0.45571116,  0.45993859,  0.46416602,  0.46839345,  0.47262087,\n",
       "         0.4768483 ,  0.48107573,  0.48530316,  0.48953058,  0.49375801,\n",
       "         0.49798544]),\n",
       " <a list of 25 Patch objects>)"
      ]
     },
     "execution_count": 32,
     "metadata": {},
     "output_type": "execute_result"
    },
    {
     "data": {
      "image/png": "[encoded data removed]",
      "text/plain": [
       "<matplotlib.figure.Figure at 0x9fa6edb00>"
      ]
     },
     "metadata": {},
     "output_type": "display_data"
    }
   ],
   "source": [
    "plt.hist(mcmc.trace(\"p\")[:], bins = 25)\n",
    "plt.vlines()"
   ]
  },
  {
   "cell_type": "code",
   "execution_count": 36,
   "metadata": {
    "collapsed": false
   },
   "outputs": [
    {
     "data": {
      "text/plain": [
       "array([ 0.43246006,  0.43246006,  0.43246006, ...,  0.43683479,\n",
       "        0.43683479,  0.44567172])"
      ]
     },
     "execution_count": 36,
     "metadata": {},
     "output_type": "execute_result"
    }
   ],
   "source": [
    "mcmc.trace(\"p\")[:]"
   ]
  },
  {
   "cell_type": "code",
   "execution_count": 37,
   "metadata": {
    "collapsed": false
   },
   "outputs": [
    {
     "data": {
      "text/plain": [
       "0.44338834395696475"
      ]
     },
     "execution_count": 37,
     "metadata": {},
     "output_type": "execute_result"
    }
   ],
   "source": [
    "mcmc.trace(\"p\")[:].mean()"
   ]
  },
  {
   "cell_type": "code",
   "execution_count": null,
   "metadata": {
    "collapsed": true
   },
   "outputs": [],
   "source": []
  }
 ],
 "metadata": {
  "kernelspec": {
   "display_name": "Python 3",
   "language": "python",
   "name": "python3"
  },
  "language_info": {
   "codemirror_mode": {
    "name": "ipython",
    "version": 3
   },
   "file_extension": ".py",
   "mimetype": "text/x-python",
   "name": "python",
   "nbconvert_exporter": "python",
   "pygments_lexer": "ipython3",
   "version": "3.5.1"
  }
 },
 "nbformat": 4,
 "nbformat_minor": 0
}
