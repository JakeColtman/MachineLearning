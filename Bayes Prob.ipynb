{
 "cells": [
  {
   "cell_type": "code",
   "execution_count": 11,
   "metadata": {
    "collapsed": true
   },
   "outputs": [],
   "source": [
    "## Working thorugh http://nbviewer.jupyter.org/github/CamDavidsonPilon/Probabilistic-Programming-and-Bayesian-Methods-for-Hackers/blob/master/Chapter1_Introduction/Chapter1.ipynb\n",
    "\n",
    "import scipy.stats as stats\n",
    "\n",
    "dist = stats.beta"
   ]
  },
  {
   "cell_type": "code",
   "execution_count": 12,
   "metadata": {
    "collapsed": true
   },
   "outputs": [],
   "source": [
    "%matplotlib inline"
   ]
  },
  {
   "cell_type": "code",
   "execution_count": 13,
   "metadata": {
    "collapsed": true
   },
   "outputs": [],
   "source": [
    "from IPython.core.pylabtools import figsize\n",
    "import numpy as np\n",
    "from matplotlib import pyplot as plt"
   ]
  },
  {
   "cell_type": "code",
   "execution_count": null,
   "metadata": {
    "collapsed": false
   },
   "outputs": [],
   "source": [
    "n_trials = [0, 1, 2, 3, 4, 5, 8, 15, 50, 500]\n",
    "## rvs - random variates of the dist\n",
    "dataUnbiased = stats.bernoulli.rvs(0.5, size=n_trials[-1])\n",
    "dataBiased = stats.bernoulli.rvs(0.1, size=n_trials[-1])"
   ]
  },
  {
   "cell_type": "code",
   "execution_count": null,
   "metadata": {
    "collapsed": false
   },
   "outputs": [],
   "source": [
    "dataBiased.sum(), dataUnbiased.sum()"
   ]
  },
  {
   "cell_type": "code",
   "execution_count": null,
   "metadata": {
    "collapsed": true
   },
   "outputs": [],
   "source": [
    "figsize(11, 9)\n",
    "x = np.linspace(0,1, 100) # get a numpy array of 100 evenly spaced points between0 and 1"
   ]
  },
  {
   "cell_type": "code",
   "execution_count": null,
   "metadata": {
    "collapsed": false
   },
   "outputs": [],
   "source": [
    "for k,N in enumerate(n_trials):\n",
    "    sx = plt.subplot(len(n_trials) / 2, 2, k + 1)\n",
    "    plt.xlabel(\"$p$, probability of heads\")\n",
    "    plt.setp(sx.get_yticklabels(), visible = False)\n",
    "    #Fit a beta distribution to the data and plot\n",
    "    heads = dataBiased[:N].sum()\n",
    "    y = dist.pdf(x, 1 + heads, 1 + N - heads)  #conjugate beta dist\n",
    "    plt.plot(x, y)\n",
    "    plt.fill_between(x, 0, y, color=\"#348ABD\", alpha=0.4)"
   ]
  },
  {
   "cell_type": "code",
   "execution_count": null,
   "metadata": {
    "collapsed": false
   },
   "outputs": [],
   "source": [
    "figsize(12.5,4)\n",
    "p = np.linspace(0,1,50)\n",
    "plt.plot(p, (2 * p) / (1 + p))"
   ]
  },
  {
   "cell_type": "code",
   "execution_count": null,
   "metadata": {
    "collapsed": true
   },
   "outputs": [],
   "source": [
    "##Lower the prioer is, the bigger the information gain"
   ]
  },
  {
   "cell_type": "code",
   "execution_count": null,
   "metadata": {
    "collapsed": false
   },
   "outputs": [],
   "source": [
    "##Exploring the poisson distrbution\n",
    "x = np.arange(16)\n",
    "poi = stats.poisson\n",
    "lambdas = [3, 8]\n",
    "colours = [ \"red\", \"blue\", \"green\", \"yellow\"]\n",
    "alpha = 0.5\n",
    "\n",
    "for i in range(len(lambdas)):\n",
    "    plt.bar(x, poi.pmf(x, lambdas[i]), alpha = alpha, color = colours[i])"
   ]
  },
  {
   "cell_type": "code",
   "execution_count": null,
   "metadata": {
    "collapsed": false
   },
   "outputs": [],
   "source": [
    "expo = stats.expon \n",
    "a = np.linspace(0,4,100)\n",
    "plt.plot(a, expo.pdf(a, scale = 1./ 0.5))\n",
    "plt.plot(a, expo.pdf(a, scale = 1./ 1.))"
   ]
  },
  {
   "cell_type": "code",
   "execution_count": 14,
   "metadata": {
    "collapsed": false
   },
   "outputs": [],
   "source": [
    "data = np.array([1.300000000000000000e+01,\n",
    "2.400000000000000000e+01,\n",
    "8.000000000000000000e+00,\n",
    "2.400000000000000000e+01,\n",
    "7.000000000000000000e+00,\n",
    "3.500000000000000000e+01,\n",
    "1.400000000000000000e+01,\n",
    "1.100000000000000000e+01,\n",
    "1.500000000000000000e+01,\n",
    "1.100000000000000000e+01,\n",
    "2.200000000000000000e+01,\n",
    "2.200000000000000000e+01,\n",
    "1.100000000000000000e+01,\n",
    "5.700000000000000000e+01,\n",
    "1.100000000000000000e+01,\n",
    "1.900000000000000000e+01,\n",
    "2.900000000000000000e+01,\n",
    "6.000000000000000000e+00,\n",
    "1.900000000000000000e+01,\n",
    "1.200000000000000000e+01,\n",
    "2.200000000000000000e+01,\n",
    "1.200000000000000000e+01,\n",
    "1.800000000000000000e+01,\n",
    "7.200000000000000000e+01,\n",
    "3.200000000000000000e+01,\n",
    "9.000000000000000000e+00,\n",
    "7.000000000000000000e+00,\n",
    "1.300000000000000000e+01,\n",
    "1.900000000000000000e+01,\n",
    "2.300000000000000000e+01,\n",
    "2.700000000000000000e+01,\n",
    "2.000000000000000000e+01,\n",
    "6.000000000000000000e+00,\n",
    "1.700000000000000000e+01,\n",
    "1.300000000000000000e+01,\n",
    "1.000000000000000000e+01,\n",
    "1.400000000000000000e+01,\n",
    "6.000000000000000000e+00,\n",
    "1.600000000000000000e+01,\n",
    "1.500000000000000000e+01,\n",
    "7.000000000000000000e+00,\n",
    "2.000000000000000000e+00,\n",
    "1.500000000000000000e+01,\n",
    "1.500000000000000000e+01,\n",
    "1.900000000000000000e+01,\n",
    "7.000000000000000000e+01,\n",
    "4.900000000000000000e+01,\n",
    "7.000000000000000000e+00,\n",
    "5.300000000000000000e+01,\n",
    "2.200000000000000000e+01,\n",
    "2.100000000000000000e+01,\n",
    "3.100000000000000000e+01,\n",
    "1.900000000000000000e+01,\n",
    "1.100000000000000000e+01,\n",
    "1.800000000000000000e+01,\n",
    "2.000000000000000000e+01,\n",
    "1.200000000000000000e+01,\n",
    "3.500000000000000000e+01,\n",
    "1.700000000000000000e+01,\n",
    "2.300000000000000000e+01,\n",
    "1.700000000000000000e+01,\n",
    "4.000000000000000000e+00,\n",
    "2.000000000000000000e+00,\n",
    "3.100000000000000000e+01,\n",
    "3.000000000000000000e+01,\n",
    "1.300000000000000000e+01,\n",
    "2.700000000000000000e+01,\n",
    "0.000000000000000000e+00,\n",
    "3.900000000000000000e+01,\n",
    "3.700000000000000000e+01,\n",
    "5.000000000000000000e+00,\n",
    "1.400000000000000000e+01,\n",
    "1.300000000000000000e+01,\n",
    "2.200000000000000000e+01])"
   ]
  },
  {
   "cell_type": "code",
   "execution_count": 10,
   "metadata": {
    "collapsed": false
   },
   "outputs": [
    {
     "ename": "NameError",
     "evalue": "name 'data' is not defined",
     "output_type": "error",
     "traceback": [
      "\u001b[1;31m---------------------------------------------------------------------------\u001b[0m",
      "\u001b[1;31mNameError\u001b[0m                                 Traceback (most recent call last)",
      "\u001b[1;32m<ipython-input-10-c32229b5dda9>\u001b[0m in \u001b[0;36m<module>\u001b[1;34m()\u001b[0m\n\u001b[1;32m----> 1\u001b[1;33m \u001b[0mlen\u001b[0m\u001b[1;33m(\u001b[0m\u001b[0mdata\u001b[0m\u001b[1;33m)\u001b[0m\u001b[1;33m\u001b[0m\u001b[0m\n\u001b[0m",
      "\u001b[1;31mNameError\u001b[0m: name 'data' is not defined"
     ]
    }
   ],
   "source": [
    "len(data)"
   ]
  },
  {
   "cell_type": "code",
   "execution_count": null,
   "metadata": {
    "collapsed": false
   },
   "outputs": [],
   "source": [
    "plt.bar(np.arange(len(data)), data)"
   ]
  },
  {
   "cell_type": "code",
   "execution_count": null,
   "metadata": {
    "collapsed": false
   },
   "outputs": [],
   "source": [
    "dist = stats.poisson\n",
    "dist.pmf"
   ]
  },
  {
   "cell_type": "code",
   "execution_count": 5,
   "metadata": {
    "collapsed": false
   },
   "outputs": [
    {
     "ename": "NameError",
     "evalue": "name 'data' is not defined",
     "output_type": "error",
     "traceback": [
      "\u001b[1;31m---------------------------------------------------------------------------\u001b[0m",
      "\u001b[1;31mNameError\u001b[0m                                 Traceback (most recent call last)",
      "\u001b[1;32m<ipython-input-5-6f40e75dba82>\u001b[0m in \u001b[0;36m<module>\u001b[1;34m()\u001b[0m\n\u001b[1;32m----> 1\u001b[1;33m \u001b[0malpha\u001b[0m \u001b[1;33m=\u001b[0m \u001b[0msum\u001b[0m\u001b[1;33m(\u001b[0m\u001b[0mdata\u001b[0m\u001b[1;33m)\u001b[0m \u001b[1;33m/\u001b[0m \u001b[0mlen\u001b[0m\u001b[1;33m(\u001b[0m\u001b[0mdata\u001b[0m\u001b[1;33m)\u001b[0m\u001b[1;33m\u001b[0m\u001b[0m\n\u001b[0m",
      "\u001b[1;31mNameError\u001b[0m: name 'data' is not defined"
     ]
    }
   ],
   "source": [
    "alpha = sum(data) / len(data)"
   ]
  },
  {
   "cell_type": "code",
   "execution_count": null,
   "metadata": {
    "collapsed": false
   },
   "outputs": [],
   "source": [
    "alpha"
   ]
  },
  {
   "cell_type": "code",
   "execution_count": 4,
   "metadata": {
    "collapsed": false
   },
   "outputs": [],
   "source": [
    "import pymc as pm"
   ]
  },
  {
   "cell_type": "code",
   "execution_count": 18,
   "metadata": {
    "collapsed": false
   },
   "outputs": [],
   "source": [
    "alpha = 1.0 / data.mean()\n",
    "lambda_1 = pm.Exponential(\"lambda_early\", alpha)\n",
    "lambda_2 = pm.Exponential(\"lambda_late\", alpha)\n",
    "\n",
    "tau = pm.DiscreteUniform(\"tau\", lower = 0, upper = len(data))"
   ]
  },
  {
   "cell_type": "code",
   "execution_count": 23,
   "metadata": {
    "collapsed": false
   },
   "outputs": [
    {
     "data": {
      "text/plain": [
       "array(40)"
      ]
     },
     "execution_count": 23,
     "metadata": {},
     "output_type": "execute_result"
    }
   ],
   "source": [
    "tau.random()"
   ]
  },
  {
   "cell_type": "code",
   "execution_count": 25,
   "metadata": {
    "collapsed": false
   },
   "outputs": [
    {
     "data": {
      "text/plain": [
       "array([ 13.,  24.,   8.,  24.,   7.,  35.,  14.,  11.,  15.,  11.,  22.,\n",
       "        22.,  11.,  57.,  11.,  19.,  29.,   6.,  19.,  12.,  22.,  12.,\n",
       "        18.,  72.,  32.,   9.,   7.,  13.,  19.,  23.,  27.,  20.,   6.,\n",
       "        17.,  13.,  10.,  14.,   6.,  16.,  15.,   7.,   2.,  15.,  15.,\n",
       "        19.,  70.,  49.,   7.,  53.,  22.,  21.,  31.,  19.,  11.,  18.,\n",
       "        20.,  12.,  35.,  17.,  23.,  17.,   4.,   2.,  31.,  30.,  13.,\n",
       "        27.,   0.,  39.,  37.,   5.,  14.,  13.,  22.])"
      ]
     },
     "execution_count": 25,
     "metadata": {},
     "output_type": "execute_result"
    }
   ],
   "source": [
    "data"
   ]
  },
  {
   "cell_type": "code",
   "execution_count": 27,
   "metadata": {
    "collapsed": false
   },
   "outputs": [],
   "source": [
    "@pm.deterministic\n",
    "def lambda_(tau = tau, lambda_1 = lambda_1, lambda_2 = lambda_2):\n",
    "    out = np.zeros(len(data))\n",
    "    out[:tau] = lambda_1\n",
    "    out[tau:] = lambda_2\n",
    "    return out"
   ]
  },
  {
   "cell_type": "code",
   "execution_count": 28,
   "metadata": {
    "collapsed": true
   },
   "outputs": [],
   "source": [
    "observation = pm.Poisson(\"obs\", lambda_, value = data, observed = True)\n"
   ]
  },
  {
   "cell_type": "code",
   "execution_count": 29,
   "metadata": {
    "collapsed": true
   },
   "outputs": [],
   "source": [
    "model = pm.Model([observation, lambda_1, lambda_2, tau])"
   ]
  },
  {
   "cell_type": "code",
   "execution_count": 30,
   "metadata": {
    "collapsed": false
   },
   "outputs": [
    {
     "data": {
      "text/plain": [
       "<pymc.Model.Model at 0x91a61a1668>"
      ]
     },
     "execution_count": 30,
     "metadata": {},
     "output_type": "execute_result"
    }
   ],
   "source": [
    "model"
   ]
  },
  {
   "cell_type": "code",
   "execution_count": 31,
   "metadata": {
    "collapsed": true
   },
   "outputs": [],
   "source": [
    "mcmc = pm.MCMC(model)"
   ]
  },
  {
   "cell_type": "code",
   "execution_count": 32,
   "metadata": {
    "collapsed": false
   },
   "outputs": [
    {
     "name": "stdout",
     "output_type": "stream",
     "text": [
      " [-----------------100%-----------------] 40000 of 40000 complete in 5.5 sec"
     ]
    }
   ],
   "source": [
    "mcmc.sample(40000, 10000, 1)"
   ]
  },
  {
   "cell_type": "code",
   "execution_count": 38,
   "metadata": {
    "collapsed": false
   },
   "outputs": [],
   "source": [
    "#extract the samples for different variables\n",
    "lambda_early_samples = mcmc.trace('lambda_early')[:]\n",
    "lambda_2_samples = mcmc.trace('lambda_late')[:]\n",
    "tau_samples = mcmc.trace('tau')[:]"
   ]
  },
  {
   "cell_type": "code",
   "execution_count": 52,
   "metadata": {
    "collapsed": false
   },
   "outputs": [
    {
     "data": {
      "text/plain": [
       "(35, 55)"
      ]
     },
     "execution_count": 52,
     "metadata": {},
     "output_type": "execute_result"
    },
    {
     "data": {
      "image/png": "[encoded data removed]",
      "text/plain": [
       "<matplotlib.figure.Figure at 0x91a8960b70>"
      ]
     },
     "metadata": {},
     "output_type": "display_data"
    }
   ],
   "source": [
    "figsize(12.5, 10)\n",
    "ax = plt.subplot(311)\n",
    "plt.hist(lambda_early_samples, bins = 30, histtype='stepfilled', normed=True)\n",
    "plt.xlim([10,40])\n",
    "plt.ylim([0,1])\n",
    "ax = plt.subplot(312)\n",
    "plt.hist(lambda_2_samples, normed = True, bins = 30, histtype = \"stepfilled\")\n",
    "plt.xlim([10,40])\n",
    "plt.ylim([0,1])\n",
    "ax = plt.subplot(313)\n",
    "plt.hist(tau_samples, bins = )\n",
    "plt.xlim([35, 55])"
   ]
  },
  {
   "cell_type": "code",
   "execution_count": null,
   "metadata": {
    "collapsed": true
   },
   "outputs": [],
   "source": []
  }
 ],
 "metadata": {
  "kernelspec": {
   "display_name": "Python 3",
   "language": "python",
   "name": "python3"
  },
  "language_info": {
   "codemirror_mode": {
    "name": "ipython",
    "version": 3
   },
   "file_extension": ".py",
   "mimetype": "text/x-python",
   "name": "python",
   "nbconvert_exporter": "python",
   "pygments_lexer": "ipython3",
   "version": "3.5.1"
  }
 },
 "nbformat": 4,
 "nbformat_minor": 0
}
